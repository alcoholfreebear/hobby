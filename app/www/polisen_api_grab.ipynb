{
 "cells": [
  {
   "cell_type": "markdown",
   "metadata": {
    "toc": true
   },
   "source": [
    "<h1>Table of Contents<span class=\"tocSkip\"></span></h1>\n",
    "<div class=\"toc\"><ul class=\"toc-item\"></ul></div>"
   ]
  },
  {
   "cell_type": "code",
   "execution_count": 15,
   "metadata": {
    "ExecuteTime": {
     "end_time": "2020-10-31T11:12:56.080918Z",
     "start_time": "2020-10-31T11:12:56.059267Z"
    }
   },
   "outputs": [],
   "source": [
    "import os\n",
    "import requests\n",
    "import pprint\n",
    "import pandas as pd\n",
    "import pandas_gbq\n",
    "import numpy as np\n",
    "import re\n",
    "from time import sleep\n",
    "from google.oauth2 import service_account\n",
    "from bs4 import BeautifulSoup\n",
    "from datetime import datetime\n",
    "\n",
    "\n",
    "\n",
    "def set_pandas_gbq_credentials():\n",
    "    credentials = service_account.Credentials.from_service_account_file(os.environ['GCP_SECRETPATH'] )\n",
    "    pandas_gbq.context.credentials = credentials\n",
    "    pandas_gbq.context.project = os.environ['GCP_PROJECID'] \n",
    "    \n",
    "def scrape_url(url):\n",
    "    sleep(0.5)\n",
    "    try:\n",
    "        r = requests.get(url)\n",
    "        soup = BeautifulSoup(r.text, 'html.parser')\n",
    "        containers =  soup.find_all('div', {'class':\"text-body editorial-html\"})\n",
    "        return containers[0].find_all('p')[0].text.replace(u'\\xa0', u' ')  \n",
    "    except:\n",
    "        return ''\n",
    "    \n",
    "def request_api(seed=False):\n",
    "    r = requests.get('https://polisen.se/api/events')\n",
    "    df = pd.DataFrame(r.json())\n",
    "    df['location_name'] = [x.get('name') for x in df['location']]\n",
    "    df['gps'] = [x.get('gps') for x in df['location']]\n",
    "    df['gps_lat'] = [float(x.split(',')[0]) for x in df['gps']]\n",
    "    df['gps_lon'] = [float(x.split(',')[1]) for x in df['gps']]\n",
    "    df['datetime'] = pd.to_datetime(df['datetime'],utc=True)\n",
    "    df['date_requested'] = pd.to_datetime(datetime.today(), utc=True)\n",
    "    df.drop(columns=['location'], inplace=True)\n",
    "    if seed:\n",
    "        df['details'] = [scrape_url(url) for url in df['url']]\n",
    "    return df\n",
    "    \n",
    "def filter_newly_arrived(new_data, history, idx_cols=['id', 'location_name', 'datetime']):\n",
    "    if len(new_data) >= 1:\n",
    "        new_data = new_data.set_index(idx_cols)\n",
    "        if len(history) >= 1:\n",
    "            idx_history = history.groupby(idx_cols).count().index\n",
    "        else:\n",
    "            idx_history = []\n",
    "        idx_add = set(new_data.index) - set(idx_history)\n",
    "        if len(idx_add) >= 1:\n",
    "            new_data = new_data.loc[list(idx_add)]\n",
    "            return new_data.reset_index()\n",
    "\n",
    "\n",
    "def update_table_raw(project_id='my-user-project-287504',\n",
    "                     dataset_id='crime_statistics_polisenapi',\n",
    "                     table_id='raw'):\n",
    "    # Get history\n",
    "    QUERY = f\"\"\"\n",
    "            SELECT id, location_name, datetime, gps\n",
    "            FROM `{project_id}.{dataset_id}.{table_id}`\n",
    "            WHERE CAST(datetime as DATE) > DATE_SUB(CURRENT_DATE(), INTERVAL 60 DAY)\n",
    "            \"\"\"\n",
    "    history = pandas_gbq.read_gbq(QUERY, project_id=project_id)\n",
    "    # Get new data\n",
    "    new_data = request_api()\n",
    "    # Upload newly arrived data (id not exist in history)\n",
    "    newly_arrived = filter_newly_arrived(new_data, history)\n",
    "    # upload new data\n",
    "    if newly_arrived is not None:\n",
    "        pandas_gbq.to_gbq(newly_arrived, f'{dataset_id}.{table_id}', project_id=project_id, if_exists='append')\n",
    "        print(f'{newly_arrived.shape[0]} rows added to table: {dataset_id}.{table_id}')\n",
    "    else:\n",
    "        print(f'0 rows added to table: {dataset_id}.{table_id}')\n",
    "        \n",
    "        \n",
    "def upload_initial(df, project_id='my-user-project-287504',\n",
    "                     dataset_id='crime_statistics_polisenapi',\n",
    "                     table_id='raw'):\n",
    "    pandas_gbq.to_gbq(df, f'{dataset_id}.{table_id}', project_id=project_id, if_exists='replace')\n",
    "\n",
    "\n",
    "\n",
    "\n",
    "def main():\n",
    "    project_id='my-user-project-287504'\n",
    "    dataset_id = 'crime_statistics_polisenapi'\n",
    "    raw_table_id = 'raw'\n",
    "    set_pandas_gbq_credentials()\n",
    "    return update_table_raw(project_id=project_id, dataset_id=dataset_id, table_id=raw_table_id)\n",
    "# main()"
   ]
  },
  {
   "cell_type": "code",
   "execution_count": 2,
   "metadata": {
    "ExecuteTime": {
     "end_time": "2020-10-31T10:54:51.648615Z",
     "start_time": "2020-10-31T10:54:50.308022Z"
    }
   },
   "outputs": [
    {
     "name": "stdout",
     "output_type": "stream",
     "text": [
      "Your active configuration is: [ds-platform]\n",
      "ds-smartsupply\n",
      "\n",
      "\n",
      "Updates are available for some Cloud SDK components.  To install them,\n",
      "please run:\n",
      "  $ gcloud components update\n",
      "\n"
     ]
    }
   ],
   "source": [
    "!gcloud config get-value project"
   ]
  },
  {
   "cell_type": "code",
   "execution_count": 6,
   "metadata": {
    "ExecuteTime": {
     "end_time": "2020-10-31T10:56:07.497911Z",
     "start_time": "2020-10-31T10:56:05.781218Z"
    }
   },
   "outputs": [
    {
     "name": "stdout",
     "output_type": "stream",
     "text": [
      "Updated property [core/project].\r\n"
     ]
    }
   ],
   "source": [
    "!gcloud config set project my-user-project-287504"
   ]
  },
  {
   "cell_type": "code",
   "execution_count": 16,
   "metadata": {
    "ExecuteTime": {
     "end_time": "2020-10-31T11:13:51.702941Z",
     "start_time": "2020-10-31T11:13:51.699939Z"
    }
   },
   "outputs": [],
   "source": [
    "set_pandas_gbq_credentials()"
   ]
  },
  {
   "cell_type": "code",
   "execution_count": 6,
   "metadata": {},
   "outputs": [],
   "source": [
    "from pprint import pprint\n"
   ]
  },
  {
   "cell_type": "code",
   "execution_count": 47,
   "metadata": {},
   "outputs": [],
   "source": [
    "def scrape_url(url):\n",
    "    r = requests.get(url)\n",
    "    soup = BeautifulSoup(r.text, 'html.parser')\n",
    "    containers =  soup.find_all('div', {'class':\"text-body editorial-html\"})\n",
    "    return containers[0].find_all('p')[0].text.replace(u'\\xa0', u' ')"
   ]
  },
  {
   "cell_type": "code",
   "execution_count": 8,
   "metadata": {
    "code_folding": [
     0
    ]
   },
   "outputs": [],
   "source": [
    "def wikipedia_loc_list():\n",
    "    url = 'https://sv.wikipedia.org/wiki/Lista_%C3%B6ver_stadsdelar_i_Uppsala#Kvarng%C3%A4rdet'\n",
    "    r = requests.get(url)\n",
    "    soup = BeautifulSoup(r.text, 'html.parser')\n",
    "    toc =  soup.find_all('div', {'class':\"toc\", \"id\":'toc'})\n",
    "    loc_list = []\n",
    "    for x in toc[0].find_all('li',{'class':\"toclevel-2\"}):\n",
    "        loc_list.append(x.find('span', {'class':\"toctext\"}).text)\n",
    "    df_loc = pd.DataFrame({'district': loc_list[1:]})\n",
    "    df_loc['city'] = 'Uppsala'\n",
    "    df_loc['district'] = np.where( df_loc['district']=='Danmark-Säby[1]','Danmark-Säby', df_loc['district'] )\n",
    "    set_pandas_gbq_credentials()\n",
    "    upload_initial(df_loc, project_id='my-user-project-287504', \n",
    "                   dataset_id='crime_statistics_polisenapi',  \n",
    "                   table_id='dim_district')\n",
    "    return df_toc"
   ]
  },
  {
   "cell_type": "code",
   "execution_count": 2,
   "metadata": {
    "ExecuteTime": {
     "end_time": "2020-11-05T09:28:37.681107Z",
     "start_time": "2020-11-05T09:28:34.556915Z"
    }
   },
   "outputs": [
    {
     "name": "stderr",
     "output_type": "stream",
     "text": [
      "/opt/anaconda3/envs/dsdc-monitoring/lib/python3.7/site-packages/google/auth/_default.py:69: UserWarning: Your application has authenticated using end user credentials from Google Cloud SDK. We recommend that most server applications use service accounts instead. If your application continues to use end user credentials from Cloud SDK, you might receive a \"quota exceeded\" or \"API not enabled\" error. For more information about service accounts, see https://cloud.google.com/docs/authentication/\n",
      "  warnings.warn(_CLOUD_SDK_CREDENTIALS_WARNING)\n",
      "/opt/anaconda3/envs/dsdc-monitoring/lib/python3.7/site-packages/google/auth/_default.py:69: UserWarning: Your application has authenticated using end user credentials from Google Cloud SDK. We recommend that most server applications use service accounts instead. If your application continues to use end user credentials from Cloud SDK, you might receive a \"quota exceeded\" or \"API not enabled\" error. For more information about service accounts, see https://cloud.google.com/docs/authentication/\n",
      "  warnings.warn(_CLOUD_SDK_CREDENTIALS_WARNING)\n"
     ]
    },
    {
     "data": {
      "text/plain": [
       "<google.cloud.bigquery.client.Client at 0x7fd171345910>"
      ]
     },
     "execution_count": 2,
     "metadata": {},
     "output_type": "execute_result"
    }
   ],
   "source": [
    "from google.cloud import bigquery\n",
    "\n",
    "bq_client = bigquery.Client()\n",
    "bq_client"
   ]
  },
  {
   "cell_type": "code",
   "execution_count": 3,
   "metadata": {
    "ExecuteTime": {
     "end_time": "2020-11-05T09:28:50.041874Z",
     "start_time": "2020-11-05T09:28:50.038289Z"
    }
   },
   "outputs": [
    {
     "data": {
      "text/plain": [
       "'my-user-project-287504'"
      ]
     },
     "execution_count": 3,
     "metadata": {},
     "output_type": "execute_result"
    }
   ],
   "source": [
    "bq_client.project"
   ]
  },
  {
   "cell_type": "code",
   "execution_count": null,
   "metadata": {},
   "outputs": [],
   "source": [
    "# # set_pandas_gbq_credentials()\n",
    "# upload_initial(df_loc, project_id='my-user-project-287504', \n",
    "#                dataset_id='crime_statistics_polisenapi',  \n",
    "#                table_id='uppsala')"
   ]
  },
  {
   "cell_type": "code",
   "execution_count": 13,
   "metadata": {},
   "outputs": [],
   "source": [
    "def extract_location_details(detail, district):\n",
    "\n",
    "    detail = re.sub('[.,;!:]', ' ', str(detail))\n",
    "    locwords = []\n",
    "    loc_keywords = ['gata', 'vägen', 'torg', 'plan', 'leden', 'park']\n",
    "    locwords.append(extract_keywords(detail, keywords = loc_keywords))\n",
    "    for dist in district['district'].values:\n",
    "        if dist.lower() in detail.lower():\n",
    "            locwords.append(dist)\n",
    "    if len(locwords)>=1:\n",
    "        locword = ' '.join(np.unique(locwords))\n",
    "    else:\n",
    "        locword = ''\n",
    "    return locword\n",
    "\n",
    "\n",
    "def extract_keywords(detail, keywords):\n",
    "    detail = re.sub('[.,;!:]', ' ', str(detail))\n",
    "    keywords_out = []\n",
    "    for keyword in keywords:\n",
    "        for x in detail.lower().split(' '):\n",
    "            if keyword in x:\n",
    "                keywords_out.append(x)\n",
    "    if len(keywords_out)>=1:\n",
    "        keyword_out = ' '.join(np.unique(keywords_out))\n",
    "    else:\n",
    "        keyword_out = ''\n",
    "    return keyword_out\n",
    "\n",
    "def update_table_uppsala():\n",
    "    district = pandas_gbq.read_gbq(\n",
    "            f\"\"\"\n",
    "            SELECT district\n",
    "            FROM `my-user-project-287504.crime_statistics_polisenapi.dim_district`\n",
    "            \"\"\", project_id='my-user-project-287504')\n",
    "\n",
    "    raw = pandas_gbq.read_gbq(\"\"\"\n",
    "            SELECT *\n",
    "            FROM `my-user-project-287504.crime_statistics_polisenapi.raw`\n",
    "            WHERE CAST(datetime as DATE) > DATE_SUB(CURRENT_DATE(), INTERVAL 60 DAY)\n",
    "            \"\"\"\n",
    "    )\n",
    "\n",
    "    hist = pandas_gbq.read_gbq(\"\"\"\n",
    "            SELECT *\n",
    "            FROM `my-user-project-287504.crime_statistics_polisenapi.uppsala`\n",
    "            WHERE CAST(datetime as DATE) > DATE_SUB(CURRENT_DATE(), INTERVAL 60 DAY)\n",
    "            \"\"\"\n",
    "    )\n",
    "    raw = raw[raw['location_name'].str.lower()=='uppsala']\n",
    "    newly_arrived = filter_newly_arrived(raw, hist)\n",
    "    if newly_arrived is not None:\n",
    "        details_list = newly_arrived['details']+' '+newly_arrived['summary']+' '+ newly_arrived['name']\n",
    "        newly_arrived['location_details'] = [extract_location_details(detail) for detail in details_list.values]\n",
    "        newly_arrived['location_details'] = newly_arrived['location_details'] +' ' +'Uppsala'\n",
    "        pandas_gbq.to_gbq(newly_arrived, f'crime_statistics_polisenapi.uppsala', project_id='my-user-project-287504', if_exists='append')\n",
    "        print(f'{newly_arrived.shape[0]} rows added to table: crime_statistics_polisenapi.uppsala')\n",
    "    else:\n",
    "        print(f'0 rows added to table: crime_statistics_polisenapi.uppsala')\n",
    "# update_table_uppsala()"
   ]
  },
  {
   "cell_type": "code",
   "execution_count": 14,
   "metadata": {},
   "outputs": [
    {
     "name": "stderr",
     "output_type": "stream",
     "text": [
      "Downloading: 100%|██████████| 1749/1749 [00:01<00:00, 965.57rows/s]\n",
      "Downloading: 100%|██████████| 124/124 [00:01<00:00, 120.70rows/s]\n",
      "1it [00:05,  5.10s/it]\n"
     ]
    }
   ],
   "source": [
    "def seed_table_cities():\n",
    "    newly_arrived = pandas_gbq.read_gbq(\"\"\"\n",
    "            SELECT *\n",
    "            FROM `my-user-project-287504.crime_statistics_polisenapi.raw`\n",
    "            --WHERE location_name in (select distinct city from \n",
    "            --`my-user-project-287504.crime_statistics_polisenapi.dim_district`)\n",
    "            \"\"\"\n",
    "    )\n",
    "    district = pandas_gbq.read_gbq(\n",
    "            f\"\"\"\n",
    "            SELECT district\n",
    "            FROM `my-user-project-287504.crime_statistics_polisenapi.dim_district`\n",
    "            \"\"\", project_id='my-user-project-287504')\n",
    "    details_list = newly_arrived['details']+' '+newly_arrived['summary']+' '+ newly_arrived['name']\n",
    "    newly_arrived['location_details'] = [extract_location_details(detail, district=district) for detail in details_list]\n",
    "    newly_arrived['location_details'] = newly_arrived['location_details'] +' ' +newly_arrived['location_name']+' ' +'Sweden'\n",
    "\n",
    "    upload_initial(newly_arrived, project_id='my-user-project-287504', \n",
    "                   dataset_id='crime_statistics_polisenapi',  \n",
    "                   table_id='cities_refined')\n",
    "from IPython import embed\n",
    "seed_table_cities()"
   ]
  },
  {
   "cell_type": "code",
   "execution_count": null,
   "metadata": {
    "ExecuteTime": {
     "end_time": "2020-10-31T11:14:02.238247Z",
     "start_time": "2020-10-31T11:13:56.996314Z"
    }
   },
   "outputs": [],
   "source": [
    "newly_arrived = pandas_gbq.read_gbq(\"\"\"\n",
    "            SELECT *\n",
    "            FROM `my-user-project-287504.crime_statistics_polisenapi.cities_refined`\n",
    "            \"\"\", project_id='my-user-project-287504'\n",
    "    )\n"
   ]
  },
  {
   "cell_type": "code",
   "execution_count": 40,
   "metadata": {
    "ExecuteTime": {
     "end_time": "2020-11-02T07:52:23.074110Z",
     "start_time": "2020-11-02T07:52:22.936799Z"
    }
   },
   "outputs": [
    {
     "ename": "TypeError",
     "evalue": "'NoneType' object is not iterable",
     "output_type": "error",
     "traceback": [
      "\u001b[0;31m---------------------------------------------------------------------------\u001b[0m",
      "\u001b[0;31mTypeError\u001b[0m                                 Traceback (most recent call last)",
      "\u001b[0;32m<ipython-input-40-d97681508811>\u001b[0m in \u001b[0;36m<module>\u001b[0;34m\u001b[0m\n\u001b[1;32m      1\u001b[0m \u001b[0mtranslator\u001b[0m \u001b[0;34m=\u001b[0m \u001b[0mTranslator\u001b[0m\u001b[0;34m(\u001b[0m\u001b[0;34m)\u001b[0m\u001b[0;34m\u001b[0m\u001b[0;34m\u001b[0m\u001b[0m\n\u001b[0;32m----> 2\u001b[0;31m \u001b[0mtr\u001b[0m\u001b[0;34m=\u001b[0m\u001b[0mtranslator\u001b[0m\u001b[0;34m.\u001b[0m\u001b[0mtranslate\u001b[0m\u001b[0;34m(\u001b[0m\u001b[0mdf\u001b[0m\u001b[0;34m[\u001b[0m\u001b[0;34m'details'\u001b[0m\u001b[0;34m]\u001b[0m\u001b[0;34m[\u001b[0m\u001b[0;36m0\u001b[0m\u001b[0;34m]\u001b[0m\u001b[0;34m,\u001b[0m \u001b[0msrc\u001b[0m\u001b[0;34m=\u001b[0m\u001b[0;34m'sv'\u001b[0m \u001b[0;34m,\u001b[0m \u001b[0mdest\u001b[0m\u001b[0;34m=\u001b[0m\u001b[0;34m'en'\u001b[0m\u001b[0;34m)\u001b[0m\u001b[0;34m.\u001b[0m\u001b[0mtext\u001b[0m\u001b[0;34m\u001b[0m\u001b[0;34m\u001b[0m\u001b[0m\n\u001b[0m",
      "\u001b[0;32m/opt/anaconda3/envs/dsdc-monitoring/lib/python3.7/site-packages/googletrans/client.py\u001b[0m in \u001b[0;36mtranslate\u001b[0;34m(self, text, dest, src, **kwargs)\u001b[0m\n\u001b[1;32m    180\u001b[0m \u001b[0;34m\u001b[0m\u001b[0m\n\u001b[1;32m    181\u001b[0m         \u001b[0morigin\u001b[0m \u001b[0;34m=\u001b[0m \u001b[0mtext\u001b[0m\u001b[0;34m\u001b[0m\u001b[0;34m\u001b[0m\u001b[0m\n\u001b[0;32m--> 182\u001b[0;31m         \u001b[0mdata\u001b[0m \u001b[0;34m=\u001b[0m \u001b[0mself\u001b[0m\u001b[0;34m.\u001b[0m\u001b[0m_translate\u001b[0m\u001b[0;34m(\u001b[0m\u001b[0mtext\u001b[0m\u001b[0;34m,\u001b[0m \u001b[0mdest\u001b[0m\u001b[0;34m,\u001b[0m \u001b[0msrc\u001b[0m\u001b[0;34m,\u001b[0m \u001b[0mkwargs\u001b[0m\u001b[0;34m)\u001b[0m\u001b[0;34m\u001b[0m\u001b[0;34m\u001b[0m\u001b[0m\n\u001b[0m\u001b[1;32m    183\u001b[0m \u001b[0;34m\u001b[0m\u001b[0m\n\u001b[1;32m    184\u001b[0m         \u001b[0;31m# this code will be updated when the format is changed.\u001b[0m\u001b[0;34m\u001b[0m\u001b[0;34m\u001b[0m\u001b[0;34m\u001b[0m\u001b[0m\n",
      "\u001b[0;32m/opt/anaconda3/envs/dsdc-monitoring/lib/python3.7/site-packages/googletrans/client.py\u001b[0m in \u001b[0;36m_translate\u001b[0;34m(self, text, dest, src, override)\u001b[0m\n\u001b[1;32m     76\u001b[0m \u001b[0;34m\u001b[0m\u001b[0m\n\u001b[1;32m     77\u001b[0m     \u001b[0;32mdef\u001b[0m \u001b[0m_translate\u001b[0m\u001b[0;34m(\u001b[0m\u001b[0mself\u001b[0m\u001b[0;34m,\u001b[0m \u001b[0mtext\u001b[0m\u001b[0;34m,\u001b[0m \u001b[0mdest\u001b[0m\u001b[0;34m,\u001b[0m \u001b[0msrc\u001b[0m\u001b[0;34m,\u001b[0m \u001b[0moverride\u001b[0m\u001b[0;34m)\u001b[0m\u001b[0;34m:\u001b[0m\u001b[0;34m\u001b[0m\u001b[0;34m\u001b[0m\u001b[0m\n\u001b[0;32m---> 78\u001b[0;31m         \u001b[0mtoken\u001b[0m \u001b[0;34m=\u001b[0m \u001b[0mself\u001b[0m\u001b[0;34m.\u001b[0m\u001b[0mtoken_acquirer\u001b[0m\u001b[0;34m.\u001b[0m\u001b[0mdo\u001b[0m\u001b[0;34m(\u001b[0m\u001b[0mtext\u001b[0m\u001b[0;34m)\u001b[0m\u001b[0;34m\u001b[0m\u001b[0;34m\u001b[0m\u001b[0m\n\u001b[0m\u001b[1;32m     79\u001b[0m         params = utils.build_params(query=text, src=src, dest=dest,\n\u001b[1;32m     80\u001b[0m                                     token=token, override=override)\n",
      "\u001b[0;32m/opt/anaconda3/envs/dsdc-monitoring/lib/python3.7/site-packages/googletrans/gtoken.py\u001b[0m in \u001b[0;36mdo\u001b[0;34m(self, text)\u001b[0m\n\u001b[1;32m    193\u001b[0m     \u001b[0;32mdef\u001b[0m \u001b[0mdo\u001b[0m\u001b[0;34m(\u001b[0m\u001b[0mself\u001b[0m\u001b[0;34m,\u001b[0m \u001b[0mtext\u001b[0m\u001b[0;34m)\u001b[0m\u001b[0;34m:\u001b[0m\u001b[0;34m\u001b[0m\u001b[0;34m\u001b[0m\u001b[0m\n\u001b[1;32m    194\u001b[0m         \u001b[0mself\u001b[0m\u001b[0;34m.\u001b[0m\u001b[0m_update\u001b[0m\u001b[0;34m(\u001b[0m\u001b[0;34m)\u001b[0m\u001b[0;34m\u001b[0m\u001b[0;34m\u001b[0m\u001b[0m\n\u001b[0;32m--> 195\u001b[0;31m         \u001b[0mtk\u001b[0m \u001b[0;34m=\u001b[0m \u001b[0mself\u001b[0m\u001b[0;34m.\u001b[0m\u001b[0macquire\u001b[0m\u001b[0;34m(\u001b[0m\u001b[0mtext\u001b[0m\u001b[0;34m)\u001b[0m\u001b[0;34m\u001b[0m\u001b[0;34m\u001b[0m\u001b[0m\n\u001b[0m\u001b[1;32m    196\u001b[0m         \u001b[0;32mreturn\u001b[0m \u001b[0mtk\u001b[0m\u001b[0;34m\u001b[0m\u001b[0;34m\u001b[0m\u001b[0m\n",
      "\u001b[0;32m/opt/anaconda3/envs/dsdc-monitoring/lib/python3.7/site-packages/googletrans/gtoken.py\u001b[0m in \u001b[0;36macquire\u001b[0;34m(self, text)\u001b[0m\n\u001b[1;32m    138\u001b[0m         \u001b[0ma\u001b[0m \u001b[0;34m=\u001b[0m \u001b[0;34m[\u001b[0m\u001b[0;34m]\u001b[0m\u001b[0;34m\u001b[0m\u001b[0;34m\u001b[0m\u001b[0m\n\u001b[1;32m    139\u001b[0m         \u001b[0;31m# Convert text to ints\u001b[0m\u001b[0;34m\u001b[0m\u001b[0;34m\u001b[0m\u001b[0;34m\u001b[0m\u001b[0m\n\u001b[0;32m--> 140\u001b[0;31m         \u001b[0;32mfor\u001b[0m \u001b[0mi\u001b[0m \u001b[0;32min\u001b[0m \u001b[0mtext\u001b[0m\u001b[0;34m:\u001b[0m\u001b[0;34m\u001b[0m\u001b[0;34m\u001b[0m\u001b[0m\n\u001b[0m\u001b[1;32m    141\u001b[0m             \u001b[0mval\u001b[0m \u001b[0;34m=\u001b[0m \u001b[0mord\u001b[0m\u001b[0;34m(\u001b[0m\u001b[0mi\u001b[0m\u001b[0;34m)\u001b[0m\u001b[0;34m\u001b[0m\u001b[0;34m\u001b[0m\u001b[0m\n\u001b[1;32m    142\u001b[0m             \u001b[0;32mif\u001b[0m \u001b[0mval\u001b[0m \u001b[0;34m<\u001b[0m \u001b[0;36m0x10000\u001b[0m\u001b[0;34m:\u001b[0m\u001b[0;34m\u001b[0m\u001b[0;34m\u001b[0m\u001b[0m\n",
      "\u001b[0;31mTypeError\u001b[0m: 'NoneType' object is not iterable"
     ]
    }
   ],
   "source": [
    "translator = Translator()\n",
    "tr=translator.translate(df['details'][0], src='sv' , dest='en').text"
   ]
  },
  {
   "cell_type": "code",
   "execution_count": 42,
   "metadata": {
    "ExecuteTime": {
     "end_time": "2020-11-02T07:52:36.171026Z",
     "start_time": "2020-11-02T07:52:36.168371Z"
    }
   },
   "outputs": [],
   "source": [
    "df['details'][0]"
   ]
  },
  {
   "cell_type": "code",
   "execution_count": null,
   "metadata": {
    "ExecuteTime": {
     "end_time": "2020-10-31T11:17:18.395549Z",
     "start_time": "2020-10-31T11:17:18.338245Z"
    }
   },
   "outputs": [],
   "source": [
    "batch_size = 20\n",
    "n_batch = len(newly_arrived)//batch_size\n",
    "dfs = np.array_split(newly_arrived, n_batch)"
   ]
  },
  {
   "cell_type": "code",
   "execution_count": 48,
   "metadata": {
    "ExecuteTime": {
     "end_time": "2020-11-02T09:11:34.442160Z",
     "start_time": "2020-11-02T08:24:39.848397Z"
    }
   },
   "outputs": [
    {
     "name": "stderr",
     "output_type": "stream",
     "text": [
      "1it [00:03,  3.03s/it]\n"
     ]
    },
    {
     "name": "stdout",
     "output_type": "stream",
     "text": [
      "sleeping 120\n"
     ]
    },
    {
     "name": "stderr",
     "output_type": "stream",
     "text": [
      "1it [00:04,  4.05s/it]\n"
     ]
    },
    {
     "name": "stdout",
     "output_type": "stream",
     "text": [
      "sleeping 120\n"
     ]
    },
    {
     "name": "stderr",
     "output_type": "stream",
     "text": [
      "1it [00:03,  3.73s/it]\n"
     ]
    },
    {
     "name": "stdout",
     "output_type": "stream",
     "text": [
      "sleeping 120\n"
     ]
    },
    {
     "name": "stderr",
     "output_type": "stream",
     "text": [
      "1it [00:03,  3.69s/it]\n"
     ]
    },
    {
     "name": "stdout",
     "output_type": "stream",
     "text": [
      "sleeping 120\n"
     ]
    },
    {
     "name": "stderr",
     "output_type": "stream",
     "text": [
      "1it [00:04,  4.57s/it]\n"
     ]
    },
    {
     "name": "stdout",
     "output_type": "stream",
     "text": [
      "sleeping 120\n"
     ]
    },
    {
     "name": "stderr",
     "output_type": "stream",
     "text": [
      "1it [00:03,  3.23s/it]\n"
     ]
    },
    {
     "name": "stdout",
     "output_type": "stream",
     "text": [
      "sleeping 120\n"
     ]
    },
    {
     "name": "stderr",
     "output_type": "stream",
     "text": [
      "1it [00:03,  3.62s/it]\n"
     ]
    },
    {
     "name": "stdout",
     "output_type": "stream",
     "text": [
      "sleeping 120\n"
     ]
    },
    {
     "name": "stderr",
     "output_type": "stream",
     "text": [
      "1it [00:03,  3.60s/it]\n"
     ]
    },
    {
     "name": "stdout",
     "output_type": "stream",
     "text": [
      "sleeping 120\n"
     ]
    },
    {
     "name": "stderr",
     "output_type": "stream",
     "text": [
      "1it [00:03,  3.13s/it]\n"
     ]
    },
    {
     "name": "stdout",
     "output_type": "stream",
     "text": [
      "sleeping 120\n"
     ]
    },
    {
     "name": "stderr",
     "output_type": "stream",
     "text": [
      "1it [00:05,  5.43s/it]\n"
     ]
    },
    {
     "name": "stdout",
     "output_type": "stream",
     "text": [
      "sleeping 120\n"
     ]
    },
    {
     "name": "stderr",
     "output_type": "stream",
     "text": [
      "1it [00:03,  3.97s/it]\n"
     ]
    },
    {
     "name": "stdout",
     "output_type": "stream",
     "text": [
      "sleeping 120\n"
     ]
    },
    {
     "name": "stderr",
     "output_type": "stream",
     "text": [
      "1it [00:03,  3.81s/it]\n"
     ]
    },
    {
     "name": "stdout",
     "output_type": "stream",
     "text": [
      "sleeping 120\n"
     ]
    },
    {
     "name": "stderr",
     "output_type": "stream",
     "text": [
      "1it [00:05,  5.23s/it]\n"
     ]
    },
    {
     "name": "stdout",
     "output_type": "stream",
     "text": [
      "sleeping 120\n"
     ]
    },
    {
     "name": "stderr",
     "output_type": "stream",
     "text": [
      "1it [00:03,  3.65s/it]\n"
     ]
    },
    {
     "name": "stdout",
     "output_type": "stream",
     "text": [
      "sleeping 120\n"
     ]
    },
    {
     "name": "stderr",
     "output_type": "stream",
     "text": [
      "1it [00:03,  3.79s/it]\n"
     ]
    },
    {
     "name": "stdout",
     "output_type": "stream",
     "text": [
      "sleeping 120\n"
     ]
    },
    {
     "name": "stderr",
     "output_type": "stream",
     "text": [
      "1it [00:03,  3.63s/it]\n"
     ]
    },
    {
     "name": "stdout",
     "output_type": "stream",
     "text": [
      "sleeping 120\n"
     ]
    },
    {
     "name": "stderr",
     "output_type": "stream",
     "text": [
      "1it [00:03,  3.34s/it]\n"
     ]
    },
    {
     "name": "stdout",
     "output_type": "stream",
     "text": [
      "sleeping 120\n"
     ]
    },
    {
     "name": "stderr",
     "output_type": "stream",
     "text": [
      "1it [00:06,  6.08s/it]\n"
     ]
    },
    {
     "name": "stdout",
     "output_type": "stream",
     "text": [
      "sleeping 120\n"
     ]
    },
    {
     "name": "stderr",
     "output_type": "stream",
     "text": [
      "1it [00:05,  5.60s/it]\n"
     ]
    },
    {
     "name": "stdout",
     "output_type": "stream",
     "text": [
      "sleeping 120\n"
     ]
    },
    {
     "name": "stderr",
     "output_type": "stream",
     "text": [
      "1it [00:03,  3.10s/it]\n"
     ]
    },
    {
     "name": "stdout",
     "output_type": "stream",
     "text": [
      "sleeping 120\n"
     ]
    },
    {
     "name": "stderr",
     "output_type": "stream",
     "text": [
      "1it [00:04,  4.17s/it]\n"
     ]
    },
    {
     "name": "stdout",
     "output_type": "stream",
     "text": [
      "sleeping 120\n"
     ]
    },
    {
     "name": "stderr",
     "output_type": "stream",
     "text": [
      "1it [00:05,  5.37s/it]\n"
     ]
    },
    {
     "name": "stdout",
     "output_type": "stream",
     "text": [
      "sleeping 120\n"
     ]
    },
    {
     "ename": "AttributeError",
     "evalue": "'NoneType' object has no attribute 'group'",
     "output_type": "error",
     "traceback": [
      "\u001b[0;31m---------------------------------------------------------------------------\u001b[0m",
      "\u001b[0;31mAttributeError\u001b[0m                            Traceback (most recent call last)",
      "\u001b[0;32m<ipython-input-48-446afd0a8ef4>\u001b[0m in \u001b[0;36m<module>\u001b[0;34m\u001b[0m\n\u001b[1;32m     29\u001b[0m \u001b[0;32mfor\u001b[0m \u001b[0mdf\u001b[0m \u001b[0;32min\u001b[0m \u001b[0mdfs\u001b[0m\u001b[0;34m:\u001b[0m\u001b[0;34m\u001b[0m\u001b[0;34m\u001b[0m\u001b[0m\n\u001b[1;32m     30\u001b[0m     \u001b[0mtranslator\u001b[0m \u001b[0;34m=\u001b[0m \u001b[0mTranslator\u001b[0m\u001b[0;34m(\u001b[0m\u001b[0;34m)\u001b[0m\u001b[0;34m\u001b[0m\u001b[0;34m\u001b[0m\u001b[0m\n\u001b[0;32m---> 31\u001b[0;31m     \u001b[0mdf\u001b[0m\u001b[0;34m[\u001b[0m\u001b[0;34m'details'\u001b[0m\u001b[0;34m]\u001b[0m \u001b[0;34m=\u001b[0m \u001b[0;34m[\u001b[0m\u001b[0mtranslator\u001b[0m\u001b[0;34m.\u001b[0m\u001b[0mtranslate\u001b[0m\u001b[0;34m(\u001b[0m\u001b[0mx\u001b[0m\u001b[0;34m,\u001b[0m \u001b[0msrc\u001b[0m\u001b[0;34m=\u001b[0m\u001b[0;34m'sv'\u001b[0m \u001b[0;34m,\u001b[0m \u001b[0mdest\u001b[0m\u001b[0;34m=\u001b[0m\u001b[0;34m'en'\u001b[0m\u001b[0;34m)\u001b[0m\u001b[0;34m.\u001b[0m\u001b[0mtext\u001b[0m \u001b[0;32mif\u001b[0m \u001b[0mx\u001b[0m \u001b[0;32mis\u001b[0m \u001b[0;32mnot\u001b[0m \u001b[0;32mNone\u001b[0m \u001b[0;32melse\u001b[0m \u001b[0;34m'None'\u001b[0m \u001b[0;32mfor\u001b[0m \u001b[0mx\u001b[0m \u001b[0;32min\u001b[0m \u001b[0mdf\u001b[0m\u001b[0;34m[\u001b[0m\u001b[0;34m'details'\u001b[0m\u001b[0;34m]\u001b[0m \u001b[0;34m]\u001b[0m\u001b[0;34m\u001b[0m\u001b[0;34m\u001b[0m\u001b[0m\n\u001b[0m\u001b[1;32m     32\u001b[0m     pandas_gbq.to_gbq(df, f'crime_statistics_polisenapi.cities_refined_en', \n\u001b[1;32m     33\u001b[0m                       project_id='my-user-project-287504', if_exists='append')\n",
      "\u001b[0;32m<ipython-input-48-446afd0a8ef4>\u001b[0m in \u001b[0;36m<listcomp>\u001b[0;34m(.0)\u001b[0m\n\u001b[1;32m     29\u001b[0m \u001b[0;32mfor\u001b[0m \u001b[0mdf\u001b[0m \u001b[0;32min\u001b[0m \u001b[0mdfs\u001b[0m\u001b[0;34m:\u001b[0m\u001b[0;34m\u001b[0m\u001b[0;34m\u001b[0m\u001b[0m\n\u001b[1;32m     30\u001b[0m     \u001b[0mtranslator\u001b[0m \u001b[0;34m=\u001b[0m \u001b[0mTranslator\u001b[0m\u001b[0;34m(\u001b[0m\u001b[0;34m)\u001b[0m\u001b[0;34m\u001b[0m\u001b[0;34m\u001b[0m\u001b[0m\n\u001b[0;32m---> 31\u001b[0;31m     \u001b[0mdf\u001b[0m\u001b[0;34m[\u001b[0m\u001b[0;34m'details'\u001b[0m\u001b[0;34m]\u001b[0m \u001b[0;34m=\u001b[0m \u001b[0;34m[\u001b[0m\u001b[0mtranslator\u001b[0m\u001b[0;34m.\u001b[0m\u001b[0mtranslate\u001b[0m\u001b[0;34m(\u001b[0m\u001b[0mx\u001b[0m\u001b[0;34m,\u001b[0m \u001b[0msrc\u001b[0m\u001b[0;34m=\u001b[0m\u001b[0;34m'sv'\u001b[0m \u001b[0;34m,\u001b[0m \u001b[0mdest\u001b[0m\u001b[0;34m=\u001b[0m\u001b[0;34m'en'\u001b[0m\u001b[0;34m)\u001b[0m\u001b[0;34m.\u001b[0m\u001b[0mtext\u001b[0m \u001b[0;32mif\u001b[0m \u001b[0mx\u001b[0m \u001b[0;32mis\u001b[0m \u001b[0;32mnot\u001b[0m \u001b[0;32mNone\u001b[0m \u001b[0;32melse\u001b[0m \u001b[0;34m'None'\u001b[0m \u001b[0;32mfor\u001b[0m \u001b[0mx\u001b[0m \u001b[0;32min\u001b[0m \u001b[0mdf\u001b[0m\u001b[0;34m[\u001b[0m\u001b[0;34m'details'\u001b[0m\u001b[0;34m]\u001b[0m \u001b[0;34m]\u001b[0m\u001b[0;34m\u001b[0m\u001b[0;34m\u001b[0m\u001b[0m\n\u001b[0m\u001b[1;32m     32\u001b[0m     pandas_gbq.to_gbq(df, f'crime_statistics_polisenapi.cities_refined_en', \n\u001b[1;32m     33\u001b[0m                       project_id='my-user-project-287504', if_exists='append')\n",
      "\u001b[0;32m/opt/anaconda3/envs/dsdc-monitoring/lib/python3.7/site-packages/googletrans/client.py\u001b[0m in \u001b[0;36mtranslate\u001b[0;34m(self, text, dest, src, **kwargs)\u001b[0m\n\u001b[1;32m    180\u001b[0m \u001b[0;34m\u001b[0m\u001b[0m\n\u001b[1;32m    181\u001b[0m         \u001b[0morigin\u001b[0m \u001b[0;34m=\u001b[0m \u001b[0mtext\u001b[0m\u001b[0;34m\u001b[0m\u001b[0;34m\u001b[0m\u001b[0m\n\u001b[0;32m--> 182\u001b[0;31m         \u001b[0mdata\u001b[0m \u001b[0;34m=\u001b[0m \u001b[0mself\u001b[0m\u001b[0;34m.\u001b[0m\u001b[0m_translate\u001b[0m\u001b[0;34m(\u001b[0m\u001b[0mtext\u001b[0m\u001b[0;34m,\u001b[0m \u001b[0mdest\u001b[0m\u001b[0;34m,\u001b[0m \u001b[0msrc\u001b[0m\u001b[0;34m,\u001b[0m \u001b[0mkwargs\u001b[0m\u001b[0;34m)\u001b[0m\u001b[0;34m\u001b[0m\u001b[0;34m\u001b[0m\u001b[0m\n\u001b[0m\u001b[1;32m    183\u001b[0m \u001b[0;34m\u001b[0m\u001b[0m\n\u001b[1;32m    184\u001b[0m         \u001b[0;31m# this code will be updated when the format is changed.\u001b[0m\u001b[0;34m\u001b[0m\u001b[0;34m\u001b[0m\u001b[0;34m\u001b[0m\u001b[0m\n",
      "\u001b[0;32m/opt/anaconda3/envs/dsdc-monitoring/lib/python3.7/site-packages/googletrans/client.py\u001b[0m in \u001b[0;36m_translate\u001b[0;34m(self, text, dest, src, override)\u001b[0m\n\u001b[1;32m     76\u001b[0m \u001b[0;34m\u001b[0m\u001b[0m\n\u001b[1;32m     77\u001b[0m     \u001b[0;32mdef\u001b[0m \u001b[0m_translate\u001b[0m\u001b[0;34m(\u001b[0m\u001b[0mself\u001b[0m\u001b[0;34m,\u001b[0m \u001b[0mtext\u001b[0m\u001b[0;34m,\u001b[0m \u001b[0mdest\u001b[0m\u001b[0;34m,\u001b[0m \u001b[0msrc\u001b[0m\u001b[0;34m,\u001b[0m \u001b[0moverride\u001b[0m\u001b[0;34m)\u001b[0m\u001b[0;34m:\u001b[0m\u001b[0;34m\u001b[0m\u001b[0;34m\u001b[0m\u001b[0m\n\u001b[0;32m---> 78\u001b[0;31m         \u001b[0mtoken\u001b[0m \u001b[0;34m=\u001b[0m \u001b[0mself\u001b[0m\u001b[0;34m.\u001b[0m\u001b[0mtoken_acquirer\u001b[0m\u001b[0;34m.\u001b[0m\u001b[0mdo\u001b[0m\u001b[0;34m(\u001b[0m\u001b[0mtext\u001b[0m\u001b[0;34m)\u001b[0m\u001b[0;34m\u001b[0m\u001b[0;34m\u001b[0m\u001b[0m\n\u001b[0m\u001b[1;32m     79\u001b[0m         params = utils.build_params(query=text, src=src, dest=dest,\n\u001b[1;32m     80\u001b[0m                                     token=token, override=override)\n",
      "\u001b[0;32m/opt/anaconda3/envs/dsdc-monitoring/lib/python3.7/site-packages/googletrans/gtoken.py\u001b[0m in \u001b[0;36mdo\u001b[0;34m(self, text)\u001b[0m\n\u001b[1;32m    192\u001b[0m \u001b[0;34m\u001b[0m\u001b[0m\n\u001b[1;32m    193\u001b[0m     \u001b[0;32mdef\u001b[0m \u001b[0mdo\u001b[0m\u001b[0;34m(\u001b[0m\u001b[0mself\u001b[0m\u001b[0;34m,\u001b[0m \u001b[0mtext\u001b[0m\u001b[0;34m)\u001b[0m\u001b[0;34m:\u001b[0m\u001b[0;34m\u001b[0m\u001b[0;34m\u001b[0m\u001b[0m\n\u001b[0;32m--> 194\u001b[0;31m         \u001b[0mself\u001b[0m\u001b[0;34m.\u001b[0m\u001b[0m_update\u001b[0m\u001b[0;34m(\u001b[0m\u001b[0;34m)\u001b[0m\u001b[0;34m\u001b[0m\u001b[0;34m\u001b[0m\u001b[0m\n\u001b[0m\u001b[1;32m    195\u001b[0m         \u001b[0mtk\u001b[0m \u001b[0;34m=\u001b[0m \u001b[0mself\u001b[0m\u001b[0;34m.\u001b[0m\u001b[0macquire\u001b[0m\u001b[0;34m(\u001b[0m\u001b[0mtext\u001b[0m\u001b[0;34m)\u001b[0m\u001b[0;34m\u001b[0m\u001b[0;34m\u001b[0m\u001b[0m\n\u001b[1;32m    196\u001b[0m         \u001b[0;32mreturn\u001b[0m \u001b[0mtk\u001b[0m\u001b[0;34m\u001b[0m\u001b[0;34m\u001b[0m\u001b[0m\n",
      "\u001b[0;32m/opt/anaconda3/envs/dsdc-monitoring/lib/python3.7/site-packages/googletrans/gtoken.py\u001b[0m in \u001b[0;36m_update\u001b[0;34m(self)\u001b[0m\n\u001b[1;32m     60\u001b[0m \u001b[0;34m\u001b[0m\u001b[0m\n\u001b[1;32m     61\u001b[0m         \u001b[0;31m# this will be the same as python code after stripping out a reserved word 'var'\u001b[0m\u001b[0;34m\u001b[0m\u001b[0;34m\u001b[0m\u001b[0;34m\u001b[0m\u001b[0m\n\u001b[0;32m---> 62\u001b[0;31m         \u001b[0mcode\u001b[0m \u001b[0;34m=\u001b[0m \u001b[0mself\u001b[0m\u001b[0;34m.\u001b[0m\u001b[0mRE_TKK\u001b[0m\u001b[0;34m.\u001b[0m\u001b[0msearch\u001b[0m\u001b[0;34m(\u001b[0m\u001b[0mr\u001b[0m\u001b[0;34m.\u001b[0m\u001b[0mtext\u001b[0m\u001b[0;34m)\u001b[0m\u001b[0;34m.\u001b[0m\u001b[0mgroup\u001b[0m\u001b[0;34m(\u001b[0m\u001b[0;36m1\u001b[0m\u001b[0;34m)\u001b[0m\u001b[0;34m.\u001b[0m\u001b[0mreplace\u001b[0m\u001b[0;34m(\u001b[0m\u001b[0;34m'var '\u001b[0m\u001b[0;34m,\u001b[0m \u001b[0;34m''\u001b[0m\u001b[0;34m)\u001b[0m\u001b[0;34m\u001b[0m\u001b[0;34m\u001b[0m\u001b[0m\n\u001b[0m\u001b[1;32m     63\u001b[0m         \u001b[0;31m# unescape special ascii characters such like a \\x3d(=)\u001b[0m\u001b[0;34m\u001b[0m\u001b[0;34m\u001b[0m\u001b[0;34m\u001b[0m\u001b[0m\n\u001b[1;32m     64\u001b[0m         \u001b[0mcode\u001b[0m \u001b[0;34m=\u001b[0m \u001b[0mcode\u001b[0m\u001b[0;34m.\u001b[0m\u001b[0mencode\u001b[0m\u001b[0;34m(\u001b[0m\u001b[0;34m)\u001b[0m\u001b[0;34m.\u001b[0m\u001b[0mdecode\u001b[0m\u001b[0;34m(\u001b[0m\u001b[0;34m'unicode-escape'\u001b[0m\u001b[0;34m)\u001b[0m\u001b[0;34m\u001b[0m\u001b[0;34m\u001b[0m\u001b[0m\n",
      "\u001b[0;31mAttributeError\u001b[0m: 'NoneType' object has no attribute 'group'"
     ]
    }
   ],
   "source": [
    "# from googletrans import Translator\n",
    "# import random\n",
    "# def merciful_translate(arr):\n",
    "#     translated= []\n",
    "#     ii = 0\n",
    "#     for x in arr:\n",
    "#         try:\n",
    "#             rand = random.randint(1,10)\n",
    "#             if ii==rand:\n",
    "#                 t_sleep = random.randint(1,10)\n",
    "#                 print(f'sleep {t_sleep} seconds')\n",
    "#                 sleep(t_sleep)\n",
    "#                 translator = Translator()\n",
    "#             tr=translator.translate(x, src='sv' , dest='en').text\n",
    "#             print(ii)\n",
    "#             translated.append(tr)\n",
    "#         except:\n",
    "#             t_sleep = 1\n",
    "#             print(f'interrupted, sleep {t_sleep} seconds')\n",
    "#             sleep(t_sleep)\n",
    "#             translator = Translator()\n",
    "#             tr=translator.translate(x, src='sv' , dest='en').text\n",
    "#             print(ii)\n",
    "#             translated.append(tr)\n",
    "#         ii+=1\n",
    "#     return translated\n",
    "    \n",
    "\n",
    "# for df in dfs:\n",
    "#     translator = Translator()\n",
    "#     df['details'] = [translator.translate(x, src='sv' , dest='en').text if x is not None else 'None' for x in df['details'] ]\n",
    "#     pandas_gbq.to_gbq(df, f'crime_statistics_polisenapi.cities_refined_en', \n",
    "#                       project_id='my-user-project-287504', if_exists='append')\n",
    "\n",
    "#     sleep_time=120\n",
    "#     print(f\"sleeping {sleep_time}\")\n",
    "#     sleep(sleep_time)"
   ]
  },
  {
   "cell_type": "code",
   "execution_count": 47,
   "metadata": {
    "ExecuteTime": {
     "end_time": "2020-11-02T08:21:08.290638Z",
     "start_time": "2020-11-02T08:21:08.262220Z"
    }
   },
   "outputs": [
    {
     "data": {
      "text/html": [
       "<div>\n",
       "<style scoped>\n",
       "    .dataframe tbody tr th:only-of-type {\n",
       "        vertical-align: middle;\n",
       "    }\n",
       "\n",
       "    .dataframe tbody tr th {\n",
       "        vertical-align: top;\n",
       "    }\n",
       "\n",
       "    .dataframe thead th {\n",
       "        text-align: right;\n",
       "    }\n",
       "</style>\n",
       "<table border=\"1\" class=\"dataframe\">\n",
       "  <thead>\n",
       "    <tr style=\"text-align: right;\">\n",
       "      <th></th>\n",
       "      <th>datetime</th>\n",
       "      <th>id</th>\n",
       "      <th>name</th>\n",
       "      <th>summary</th>\n",
       "      <th>type</th>\n",
       "      <th>url</th>\n",
       "      <th>location_name</th>\n",
       "      <th>gps</th>\n",
       "      <th>gps_lat</th>\n",
       "      <th>gps_lon</th>\n",
       "      <th>date_requested</th>\n",
       "      <th>details</th>\n",
       "      <th>location_details</th>\n",
       "    </tr>\n",
       "  </thead>\n",
       "  <tbody>\n",
       "    <tr>\n",
       "      <th>126</th>\n",
       "      <td>2020-10-23 04:26:00+00:00</td>\n",
       "      <td>232227</td>\n",
       "      <td>23 oktober 06:26, Rattfylleri, Täby</td>\n",
       "      <td>En bilist kör E18 norrut vid Lahäll och inring...</td>\n",
       "      <td>Rattfylleri</td>\n",
       "      <td>https://polisen.se/aktuellt/handelser/2020/okt...</td>\n",
       "      <td>Täby</td>\n",
       "      <td>59.4419,18.07033</td>\n",
       "      <td>59.441900</td>\n",
       "      <td>18.070330</td>\n",
       "      <td>2020-10-23 07:29:22.894298+00:00</td>\n",
       "      <td>Bilen framförs mitt i vägbanan, blinkar åt all...</td>\n",
       "      <td>Norr Täby Sweden</td>\n",
       "    </tr>\n",
       "    <tr>\n",
       "      <th>127</th>\n",
       "      <td>2020-10-22 16:59:00+00:00</td>\n",
       "      <td>232176</td>\n",
       "      <td>22 oktober 18:59, Fylleri/LOB, Täby</td>\n",
       "      <td>Ordningsvakt omhändertog en berusad person på ...</td>\n",
       "      <td>Fylleri/LOB</td>\n",
       "      <td>https://polisen.se/aktuellt/handelser/2020/okt...</td>\n",
       "      <td>Täby</td>\n",
       "      <td>59.4419,18.07033</td>\n",
       "      <td>59.441900</td>\n",
       "      <td>18.070330</td>\n",
       "      <td>2020-10-22 19:29:22.746144+00:00</td>\n",
       "      <td>Polisen övertog omhändertagandet och förde per...</td>\n",
       "      <td>kemistvägen Täby Sweden</td>\n",
       "    </tr>\n",
       "    <tr>\n",
       "      <th>128</th>\n",
       "      <td>2020-10-26 00:31:00+00:00</td>\n",
       "      <td>232621</td>\n",
       "      <td>26 oktober 01:31, Rattfylleri, Täby</td>\n",
       "      <td>En polispatrull stoppar en personbil för kontr...</td>\n",
       "      <td>Rattfylleri</td>\n",
       "      <td>https://polisen.se/aktuellt/handelser/2020/okt...</td>\n",
       "      <td>Täby</td>\n",
       "      <td>59.4419,18.07033</td>\n",
       "      <td>59.441900</td>\n",
       "      <td>18.070330</td>\n",
       "      <td>2020-10-26 07:33:03.277646+00:00</td>\n",
       "      <td>Vid kontroll av föraren visade denne tecken på...</td>\n",
       "      <td>Norr norrtäljevägen Täby Sweden</td>\n",
       "    </tr>\n",
       "    <tr>\n",
       "      <th>129</th>\n",
       "      <td>2020-10-26 17:53:00+00:00</td>\n",
       "      <td>232738</td>\n",
       "      <td>26 oktober 18:53, Trafikkontroll, Umeå</td>\n",
       "      <td>Hastighetskontroll på Ersboda och i Bullmark.</td>\n",
       "      <td>Trafikkontroll</td>\n",
       "      <td>https://polisen.se/aktuellt/handelser/2020/okt...</td>\n",
       "      <td>Umeå</td>\n",
       "      <td>63.825847,20.263035</td>\n",
       "      <td>63.825847</td>\n",
       "      <td>20.263035</td>\n",
       "      <td>2020-10-26 19:33:05.917686+00:00</td>\n",
       "      <td>Polisen har under kvällen haft hastighetskontr...</td>\n",
       "      <td>ersmarksvägen Umeå Sweden</td>\n",
       "    </tr>\n",
       "    <tr>\n",
       "      <th>130</th>\n",
       "      <td>2020-10-26 13:37:00+00:00</td>\n",
       "      <td>232704</td>\n",
       "      <td>26 oktober 14:37, Rattfylleri, Umeå</td>\n",
       "      <td>Man misstänks för stöld och drograttfylleri.</td>\n",
       "      <td>Rattfylleri</td>\n",
       "      <td>https://polisen.se/aktuellt/handelser/2020/okt...</td>\n",
       "      <td>Umeå</td>\n",
       "      <td>63.825847,20.263035</td>\n",
       "      <td>63.825847</td>\n",
       "      <td>20.263035</td>\n",
       "      <td>2020-10-26 19:33:05.917686+00:00</td>\n",
       "      <td>En patrull stoppar en bilist i höjd med Kronop...</td>\n",
       "      <td>kronoparken Umeå Sweden</td>\n",
       "    </tr>\n",
       "    <tr>\n",
       "      <th>131</th>\n",
       "      <td>2020-10-26 14:56:00+00:00</td>\n",
       "      <td>232723</td>\n",
       "      <td>26 oktober 15:56, Stöld, Umeå</td>\n",
       "      <td>Unga män misstänks för stöld.</td>\n",
       "      <td>Stöld</td>\n",
       "      <td>https://polisen.se/aktuellt/handelser/2020/okt...</td>\n",
       "      <td>Umeå</td>\n",
       "      <td>63.825847,20.263035</td>\n",
       "      <td>63.825847</td>\n",
       "      <td>20.263035</td>\n",
       "      <td>2020-10-26 19:33:05.917686+00:00</td>\n",
       "      <td>Polis beordras till Rådhustorget där en ordnin...</td>\n",
       "      <td>rådhustorget Umeå Sweden</td>\n",
       "    </tr>\n",
       "    <tr>\n",
       "      <th>132</th>\n",
       "      <td>2020-10-26 14:30:00+00:00</td>\n",
       "      <td>232693</td>\n",
       "      <td>26 oktober 15:30, Trafikkontroll, Umeå</td>\n",
       "      <td>Hastighetskontroll på Östra Ersboda.</td>\n",
       "      <td>Trafikkontroll</td>\n",
       "      <td>https://polisen.se/aktuellt/handelser/2020/okt...</td>\n",
       "      <td>Umeå</td>\n",
       "      <td>63.825847,20.263035</td>\n",
       "      <td>63.825847</td>\n",
       "      <td>20.263035</td>\n",
       "      <td>2020-10-26 19:33:05.917686+00:00</td>\n",
       "      <td>Under eftermiddagen har polisen haft en hastig...</td>\n",
       "      <td>kärnvägen Umeå Sweden</td>\n",
       "    </tr>\n",
       "    <tr>\n",
       "      <th>133</th>\n",
       "      <td>2020-10-27 17:55:00+00:00</td>\n",
       "      <td>232915</td>\n",
       "      <td>27 oktober 18:55, Stöld, Umeå</td>\n",
       "      <td>Stöld i butik, Umeå centrum.</td>\n",
       "      <td>Stöld</td>\n",
       "      <td>https://polisen.se/aktuellt/handelser/2020/okt...</td>\n",
       "      <td>Umeå</td>\n",
       "      <td>63.825847,20.263035</td>\n",
       "      <td>63.825847</td>\n",
       "      <td>20.263035</td>\n",
       "      <td>2020-10-27 19:35:23.923080+00:00</td>\n",
       "      <td>Polis beordras till en butik i Umeå centrum dä...</td>\n",
       "      <td>Centrum Umeå Sweden</td>\n",
       "    </tr>\n",
       "    <tr>\n",
       "      <th>134</th>\n",
       "      <td>2020-10-19 15:03:00+00:00</td>\n",
       "      <td>230642</td>\n",
       "      <td>19 oktober 17:03, Trafikolycka, Umeå</td>\n",
       "      <td>Trafikolycka på Umedalen.</td>\n",
       "      <td>Trafikolycka</td>\n",
       "      <td>https://polisen.se/aktuellt/handelser/2020/okt...</td>\n",
       "      <td>Umeå</td>\n",
       "      <td>63.825847,20.263035</td>\n",
       "      <td>63.825847</td>\n",
       "      <td>20.263035</td>\n",
       "      <td>2020-10-19 22:07:39.847756+00:00</td>\n",
       "      <td>Tidigare i dag inträffade en singelolycka på J...</td>\n",
       "      <td>vägen Umeå Sweden</td>\n",
       "    </tr>\n",
       "    <tr>\n",
       "      <th>135</th>\n",
       "      <td>2020-10-19 10:59:00+00:00</td>\n",
       "      <td>230606</td>\n",
       "      <td>19 oktober 12:59, Trafikolycka, Umeå</td>\n",
       "      <td>Trafikolycka på E4 Sävar.</td>\n",
       "      <td>Trafikolycka</td>\n",
       "      <td>https://polisen.se/aktuellt/handelser/2020/okt...</td>\n",
       "      <td>Umeå</td>\n",
       "      <td>63.825847,20.263035</td>\n",
       "      <td>63.825847</td>\n",
       "      <td>20.263035</td>\n",
       "      <td>2020-10-19 22:07:39.847756+00:00</td>\n",
       "      <td>Polisen har kontaktats angående en personbil s...</td>\n",
       "      <td>Norr Umeå Sweden</td>\n",
       "    </tr>\n",
       "    <tr>\n",
       "      <th>136</th>\n",
       "      <td>2020-10-19 05:02:00+00:00</td>\n",
       "      <td>230579</td>\n",
       "      <td>19 oktober 07:02, Trafikbrott, Umeå</td>\n",
       "      <td>Anmälan efter trafikolycka på Söderslätt, Umeå.</td>\n",
       "      <td>Trafikbrott</td>\n",
       "      <td>https://polisen.se/aktuellt/handelser/2020/okt...</td>\n",
       "      <td>Umeå</td>\n",
       "      <td>63.825847,20.263035</td>\n",
       "      <td>63.825847</td>\n",
       "      <td>20.263035</td>\n",
       "      <td>2020-10-19 22:07:39.847756+00:00</td>\n",
       "      <td>Tidigt på morgonen kontaktas polisen angående ...</td>\n",
       "      <td>Söder Umeå Sweden</td>\n",
       "    </tr>\n",
       "    <tr>\n",
       "      <th>137</th>\n",
       "      <td>2020-10-18 17:19:00+00:00</td>\n",
       "      <td>230524</td>\n",
       "      <td>18 oktober 19:19, Vapenlagen, Umeå</td>\n",
       "      <td>Polisinsats vid parkeringshus i centrala Umeå</td>\n",
       "      <td>Vapenlagen</td>\n",
       "      <td>https://polisen.se/aktuellt/handelser/2020/okt...</td>\n",
       "      <td>Umeå</td>\n",
       "      <td>63.825847,20.263035</td>\n",
       "      <td>63.825847</td>\n",
       "      <td>20.263035</td>\n",
       "      <td>2020-10-19 22:07:39.847756+00:00</td>\n",
       "      <td>Strax före 18.</td>\n",
       "      <td>parkeringshus Umeå Sweden</td>\n",
       "    </tr>\n",
       "    <tr>\n",
       "      <th>138</th>\n",
       "      <td>2020-10-16 06:19:00+00:00</td>\n",
       "      <td>230239</td>\n",
       "      <td>16 oktober 08:19, Trafikolycka, vilt, Umeå</td>\n",
       "      <td>Viltolycka norr om Ersmark.</td>\n",
       "      <td>Trafikolycka, vilt</td>\n",
       "      <td>https://polisen.se/aktuellt/handelser/2020/okt...</td>\n",
       "      <td>Umeå</td>\n",
       "      <td>63.825847,20.263035</td>\n",
       "      <td>63.825847</td>\n",
       "      <td>20.263035</td>\n",
       "      <td>2020-10-19 22:07:39.847756+00:00</td>\n",
       "      <td>SOS får samtal om en singelolycka på länsväg 3...</td>\n",
       "      <td>Norr Umeå Sweden</td>\n",
       "    </tr>\n",
       "    <tr>\n",
       "      <th>139</th>\n",
       "      <td>2020-10-20 15:08:00+00:00</td>\n",
       "      <td>231824</td>\n",
       "      <td>20 oktober 17:08, Fylleri/LOB, Umeå</td>\n",
       "      <td>Man omhändertagen i centrala Umeå.</td>\n",
       "      <td>Fylleri/LOB</td>\n",
       "      <td>https://polisen.se/aktuellt/handelser/2020/okt...</td>\n",
       "      <td>Umeå</td>\n",
       "      <td>63.825847,20.263035</td>\n",
       "      <td>63.825847</td>\n",
       "      <td>20.263035</td>\n",
       "      <td>2020-10-20 19:50:12.256367+00:00</td>\n",
       "      <td>Polis kallades till centrum med anledning av e...</td>\n",
       "      <td>Centrum Umeå Sweden</td>\n",
       "    </tr>\n",
       "    <tr>\n",
       "      <th>140</th>\n",
       "      <td>2020-10-20 15:08:00+00:00</td>\n",
       "      <td>231824</td>\n",
       "      <td>20 oktober 17:08, Fylleri/LOB, Umeå</td>\n",
       "      <td>Man omhändertagen i centrala Umeå.</td>\n",
       "      <td>Fylleri/LOB</td>\n",
       "      <td>https://polisen.se/aktuellt/handelser/2020/okt...</td>\n",
       "      <td>Umeå</td>\n",
       "      <td>63.825847,20.263035</td>\n",
       "      <td>63.825847</td>\n",
       "      <td>20.263035</td>\n",
       "      <td>2020-10-20 17:50:04.131547+00:00</td>\n",
       "      <td>Polis kallades till centrum med anledning av e...</td>\n",
       "      <td>Centrum Umeå Sweden</td>\n",
       "    </tr>\n",
       "    <tr>\n",
       "      <th>141</th>\n",
       "      <td>2020-10-20 07:03:00+00:00</td>\n",
       "      <td>231739</td>\n",
       "      <td>20 oktober 09:03, Trafikbrott, Umeå</td>\n",
       "      <td>Trafikbrott på E4 vid Sävar, Umeå.</td>\n",
       "      <td>Trafikbrott</td>\n",
       "      <td>https://polisen.se/aktuellt/handelser/2020/okt...</td>\n",
       "      <td>Umeå</td>\n",
       "      <td>63.825847,20.263035</td>\n",
       "      <td>63.825847</td>\n",
       "      <td>20.263035</td>\n",
       "      <td>2020-10-20 11:50:04.421003+00:00</td>\n",
       "      <td>Polisen stoppar och kontrollerar en personbil ...</td>\n",
       "      <td>Norr Umeå Sweden</td>\n",
       "    </tr>\n",
       "    <tr>\n",
       "      <th>142</th>\n",
       "      <td>2020-10-21 10:45:00+00:00</td>\n",
       "      <td>231957</td>\n",
       "      <td>21 oktober 12:45, Stöld, Umeå</td>\n",
       "      <td>Centrala stan, kvinna gripen av polis</td>\n",
       "      <td>Stöld</td>\n",
       "      <td>https://polisen.se/aktuellt/handelser/2020/okt...</td>\n",
       "      <td>Umeå</td>\n",
       "      <td>63.825847,20.263035</td>\n",
       "      <td>63.825847</td>\n",
       "      <td>20.263035</td>\n",
       "      <td>2020-10-21 19:28:03.762804+00:00</td>\n",
       "      <td>Kvinnan, som är i 30-årsåldern, misstänks för ...</td>\n",
       "      <td>Centrum Umeå Sweden</td>\n",
       "    </tr>\n",
       "    <tr>\n",
       "      <th>143</th>\n",
       "      <td>2020-10-21 15:49:00+00:00</td>\n",
       "      <td>231988</td>\n",
       "      <td>21 oktober 17:49, Djur, Umeå</td>\n",
       "      <td>Östra Kyrkogatan, älgar som korsat vägen</td>\n",
       "      <td>Djur</td>\n",
       "      <td>https://polisen.se/aktuellt/handelser/2020/okt...</td>\n",
       "      <td>Umeå</td>\n",
       "      <td>63.825847,20.263035</td>\n",
       "      <td>63.825847</td>\n",
       "      <td>20.263035</td>\n",
       "      <td>2020-10-21 19:28:03.762804+00:00</td>\n",
       "      <td>Samtal har inkommit till polisen gällande tre ...</td>\n",
       "      <td>kyrkogatan vägen Umeå Sweden</td>\n",
       "    </tr>\n",
       "    <tr>\n",
       "      <th>144</th>\n",
       "      <td>2020-10-21 08:45:00+00:00</td>\n",
       "      <td>231922</td>\n",
       "      <td>21 oktober 10:45, Trafikolycka, Umeå</td>\n",
       "      <td>Trafikolycka på Strömvägen, Västerslätt.</td>\n",
       "      <td>Trafikolycka</td>\n",
       "      <td>https://polisen.se/aktuellt/handelser/2020/okt...</td>\n",
       "      <td>Umeå</td>\n",
       "      <td>63.825847,20.263035</td>\n",
       "      <td>63.825847</td>\n",
       "      <td>20.263035</td>\n",
       "      <td>2020-10-21 13:28:04.721677+00:00</td>\n",
       "      <td>Enligt initiala uppgifter är två personbilar i...</td>\n",
       "      <td>Väster strömvägen Umeå Sweden</td>\n",
       "    </tr>\n",
       "    <tr>\n",
       "      <th>145</th>\n",
       "      <td>2020-10-21 06:30:00+00:00</td>\n",
       "      <td>231901</td>\n",
       "      <td>21 oktober 08:30, Trafikolycka, Umeå</td>\n",
       "      <td>Polispatrull beordras till en trafikolycka på ...</td>\n",
       "      <td>Trafikolycka</td>\n",
       "      <td>https://polisen.se/aktuellt/handelser/2020/okt...</td>\n",
       "      <td>Umeå</td>\n",
       "      <td>63.825847,20.263035</td>\n",
       "      <td>63.825847</td>\n",
       "      <td>20.263035</td>\n",
       "      <td>2020-10-21 13:28:04.721677+00:00</td>\n",
       "      <td>Två bilar är inblandade i olyckan. Ingen perso...</td>\n",
       "      <td>vägen/strombergs Umeå Sweden</td>\n",
       "    </tr>\n",
       "    <tr>\n",
       "      <th>146</th>\n",
       "      <td>2020-10-24 07:50:00+00:00</td>\n",
       "      <td>232442</td>\n",
       "      <td>24 oktober 09:50, Fylleri/LOB, Umeå</td>\n",
       "      <td>Man omhändertagen för fylleri på Vasaplan, Umeå.</td>\n",
       "      <td>Fylleri/LOB</td>\n",
       "      <td>https://polisen.se/aktuellt/handelser/2020/okt...</td>\n",
       "      <td>Umeå</td>\n",
       "      <td>63.825847,20.263035</td>\n",
       "      <td>63.825847</td>\n",
       "      <td>20.263035</td>\n",
       "      <td>2020-10-24 13:32:04.156029+00:00</td>\n",
       "      <td>Polisen beordras till Vasaplan i Umeå med anle...</td>\n",
       "      <td>vasaplan Umeå Sweden</td>\n",
       "    </tr>\n",
       "  </tbody>\n",
       "</table>\n",
       "</div>"
      ],
      "text/plain": [
       "                     datetime      id  \\\n",
       "126 2020-10-23 04:26:00+00:00  232227   \n",
       "127 2020-10-22 16:59:00+00:00  232176   \n",
       "128 2020-10-26 00:31:00+00:00  232621   \n",
       "129 2020-10-26 17:53:00+00:00  232738   \n",
       "130 2020-10-26 13:37:00+00:00  232704   \n",
       "131 2020-10-26 14:56:00+00:00  232723   \n",
       "132 2020-10-26 14:30:00+00:00  232693   \n",
       "133 2020-10-27 17:55:00+00:00  232915   \n",
       "134 2020-10-19 15:03:00+00:00  230642   \n",
       "135 2020-10-19 10:59:00+00:00  230606   \n",
       "136 2020-10-19 05:02:00+00:00  230579   \n",
       "137 2020-10-18 17:19:00+00:00  230524   \n",
       "138 2020-10-16 06:19:00+00:00  230239   \n",
       "139 2020-10-20 15:08:00+00:00  231824   \n",
       "140 2020-10-20 15:08:00+00:00  231824   \n",
       "141 2020-10-20 07:03:00+00:00  231739   \n",
       "142 2020-10-21 10:45:00+00:00  231957   \n",
       "143 2020-10-21 15:49:00+00:00  231988   \n",
       "144 2020-10-21 08:45:00+00:00  231922   \n",
       "145 2020-10-21 06:30:00+00:00  231901   \n",
       "146 2020-10-24 07:50:00+00:00  232442   \n",
       "\n",
       "                                           name  \\\n",
       "126         23 oktober 06:26, Rattfylleri, Täby   \n",
       "127         22 oktober 18:59, Fylleri/LOB, Täby   \n",
       "128         26 oktober 01:31, Rattfylleri, Täby   \n",
       "129      26 oktober 18:53, Trafikkontroll, Umeå   \n",
       "130         26 oktober 14:37, Rattfylleri, Umeå   \n",
       "131               26 oktober 15:56, Stöld, Umeå   \n",
       "132      26 oktober 15:30, Trafikkontroll, Umeå   \n",
       "133               27 oktober 18:55, Stöld, Umeå   \n",
       "134        19 oktober 17:03, Trafikolycka, Umeå   \n",
       "135        19 oktober 12:59, Trafikolycka, Umeå   \n",
       "136         19 oktober 07:02, Trafikbrott, Umeå   \n",
       "137          18 oktober 19:19, Vapenlagen, Umeå   \n",
       "138  16 oktober 08:19, Trafikolycka, vilt, Umeå   \n",
       "139         20 oktober 17:08, Fylleri/LOB, Umeå   \n",
       "140         20 oktober 17:08, Fylleri/LOB, Umeå   \n",
       "141         20 oktober 09:03, Trafikbrott, Umeå   \n",
       "142               21 oktober 12:45, Stöld, Umeå   \n",
       "143                21 oktober 17:49, Djur, Umeå   \n",
       "144        21 oktober 10:45, Trafikolycka, Umeå   \n",
       "145        21 oktober 08:30, Trafikolycka, Umeå   \n",
       "146         24 oktober 09:50, Fylleri/LOB, Umeå   \n",
       "\n",
       "                                               summary                type  \\\n",
       "126  En bilist kör E18 norrut vid Lahäll och inring...         Rattfylleri   \n",
       "127  Ordningsvakt omhändertog en berusad person på ...         Fylleri/LOB   \n",
       "128  En polispatrull stoppar en personbil för kontr...         Rattfylleri   \n",
       "129      Hastighetskontroll på Ersboda och i Bullmark.      Trafikkontroll   \n",
       "130       Man misstänks för stöld och drograttfylleri.         Rattfylleri   \n",
       "131                      Unga män misstänks för stöld.               Stöld   \n",
       "132               Hastighetskontroll på Östra Ersboda.      Trafikkontroll   \n",
       "133                       Stöld i butik, Umeå centrum.               Stöld   \n",
       "134                          Trafikolycka på Umedalen.        Trafikolycka   \n",
       "135                          Trafikolycka på E4 Sävar.        Trafikolycka   \n",
       "136    Anmälan efter trafikolycka på Söderslätt, Umeå.         Trafikbrott   \n",
       "137      Polisinsats vid parkeringshus i centrala Umeå          Vapenlagen   \n",
       "138                        Viltolycka norr om Ersmark.  Trafikolycka, vilt   \n",
       "139                 Man omhändertagen i centrala Umeå.         Fylleri/LOB   \n",
       "140                 Man omhändertagen i centrala Umeå.         Fylleri/LOB   \n",
       "141                 Trafikbrott på E4 vid Sävar, Umeå.         Trafikbrott   \n",
       "142              Centrala stan, kvinna gripen av polis               Stöld   \n",
       "143           Östra Kyrkogatan, älgar som korsat vägen                Djur   \n",
       "144           Trafikolycka på Strömvägen, Västerslätt.        Trafikolycka   \n",
       "145  Polispatrull beordras till en trafikolycka på ...        Trafikolycka   \n",
       "146   Man omhändertagen för fylleri på Vasaplan, Umeå.         Fylleri/LOB   \n",
       "\n",
       "                                                   url location_name  \\\n",
       "126  https://polisen.se/aktuellt/handelser/2020/okt...          Täby   \n",
       "127  https://polisen.se/aktuellt/handelser/2020/okt...          Täby   \n",
       "128  https://polisen.se/aktuellt/handelser/2020/okt...          Täby   \n",
       "129  https://polisen.se/aktuellt/handelser/2020/okt...          Umeå   \n",
       "130  https://polisen.se/aktuellt/handelser/2020/okt...          Umeå   \n",
       "131  https://polisen.se/aktuellt/handelser/2020/okt...          Umeå   \n",
       "132  https://polisen.se/aktuellt/handelser/2020/okt...          Umeå   \n",
       "133  https://polisen.se/aktuellt/handelser/2020/okt...          Umeå   \n",
       "134  https://polisen.se/aktuellt/handelser/2020/okt...          Umeå   \n",
       "135  https://polisen.se/aktuellt/handelser/2020/okt...          Umeå   \n",
       "136  https://polisen.se/aktuellt/handelser/2020/okt...          Umeå   \n",
       "137  https://polisen.se/aktuellt/handelser/2020/okt...          Umeå   \n",
       "138  https://polisen.se/aktuellt/handelser/2020/okt...          Umeå   \n",
       "139  https://polisen.se/aktuellt/handelser/2020/okt...          Umeå   \n",
       "140  https://polisen.se/aktuellt/handelser/2020/okt...          Umeå   \n",
       "141  https://polisen.se/aktuellt/handelser/2020/okt...          Umeå   \n",
       "142  https://polisen.se/aktuellt/handelser/2020/okt...          Umeå   \n",
       "143  https://polisen.se/aktuellt/handelser/2020/okt...          Umeå   \n",
       "144  https://polisen.se/aktuellt/handelser/2020/okt...          Umeå   \n",
       "145  https://polisen.se/aktuellt/handelser/2020/okt...          Umeå   \n",
       "146  https://polisen.se/aktuellt/handelser/2020/okt...          Umeå   \n",
       "\n",
       "                     gps    gps_lat    gps_lon  \\\n",
       "126     59.4419,18.07033  59.441900  18.070330   \n",
       "127     59.4419,18.07033  59.441900  18.070330   \n",
       "128     59.4419,18.07033  59.441900  18.070330   \n",
       "129  63.825847,20.263035  63.825847  20.263035   \n",
       "130  63.825847,20.263035  63.825847  20.263035   \n",
       "131  63.825847,20.263035  63.825847  20.263035   \n",
       "132  63.825847,20.263035  63.825847  20.263035   \n",
       "133  63.825847,20.263035  63.825847  20.263035   \n",
       "134  63.825847,20.263035  63.825847  20.263035   \n",
       "135  63.825847,20.263035  63.825847  20.263035   \n",
       "136  63.825847,20.263035  63.825847  20.263035   \n",
       "137  63.825847,20.263035  63.825847  20.263035   \n",
       "138  63.825847,20.263035  63.825847  20.263035   \n",
       "139  63.825847,20.263035  63.825847  20.263035   \n",
       "140  63.825847,20.263035  63.825847  20.263035   \n",
       "141  63.825847,20.263035  63.825847  20.263035   \n",
       "142  63.825847,20.263035  63.825847  20.263035   \n",
       "143  63.825847,20.263035  63.825847  20.263035   \n",
       "144  63.825847,20.263035  63.825847  20.263035   \n",
       "145  63.825847,20.263035  63.825847  20.263035   \n",
       "146  63.825847,20.263035  63.825847  20.263035   \n",
       "\n",
       "                      date_requested  \\\n",
       "126 2020-10-23 07:29:22.894298+00:00   \n",
       "127 2020-10-22 19:29:22.746144+00:00   \n",
       "128 2020-10-26 07:33:03.277646+00:00   \n",
       "129 2020-10-26 19:33:05.917686+00:00   \n",
       "130 2020-10-26 19:33:05.917686+00:00   \n",
       "131 2020-10-26 19:33:05.917686+00:00   \n",
       "132 2020-10-26 19:33:05.917686+00:00   \n",
       "133 2020-10-27 19:35:23.923080+00:00   \n",
       "134 2020-10-19 22:07:39.847756+00:00   \n",
       "135 2020-10-19 22:07:39.847756+00:00   \n",
       "136 2020-10-19 22:07:39.847756+00:00   \n",
       "137 2020-10-19 22:07:39.847756+00:00   \n",
       "138 2020-10-19 22:07:39.847756+00:00   \n",
       "139 2020-10-20 19:50:12.256367+00:00   \n",
       "140 2020-10-20 17:50:04.131547+00:00   \n",
       "141 2020-10-20 11:50:04.421003+00:00   \n",
       "142 2020-10-21 19:28:03.762804+00:00   \n",
       "143 2020-10-21 19:28:03.762804+00:00   \n",
       "144 2020-10-21 13:28:04.721677+00:00   \n",
       "145 2020-10-21 13:28:04.721677+00:00   \n",
       "146 2020-10-24 13:32:04.156029+00:00   \n",
       "\n",
       "                                               details  \\\n",
       "126  Bilen framförs mitt i vägbanan, blinkar åt all...   \n",
       "127  Polisen övertog omhändertagandet och förde per...   \n",
       "128  Vid kontroll av föraren visade denne tecken på...   \n",
       "129  Polisen har under kvällen haft hastighetskontr...   \n",
       "130  En patrull stoppar en bilist i höjd med Kronop...   \n",
       "131  Polis beordras till Rådhustorget där en ordnin...   \n",
       "132  Under eftermiddagen har polisen haft en hastig...   \n",
       "133  Polis beordras till en butik i Umeå centrum dä...   \n",
       "134  Tidigare i dag inträffade en singelolycka på J...   \n",
       "135  Polisen har kontaktats angående en personbil s...   \n",
       "136  Tidigt på morgonen kontaktas polisen angående ...   \n",
       "137                                    Strax före 18.    \n",
       "138  SOS får samtal om en singelolycka på länsväg 3...   \n",
       "139  Polis kallades till centrum med anledning av e...   \n",
       "140  Polis kallades till centrum med anledning av e...   \n",
       "141  Polisen stoppar och kontrollerar en personbil ...   \n",
       "142  Kvinnan, som är i 30-årsåldern, misstänks för ...   \n",
       "143  Samtal har inkommit till polisen gällande tre ...   \n",
       "144  Enligt initiala uppgifter är två personbilar i...   \n",
       "145  Två bilar är inblandade i olyckan. Ingen perso...   \n",
       "146  Polisen beordras till Vasaplan i Umeå med anle...   \n",
       "\n",
       "                    location_details  \n",
       "126                 Norr Täby Sweden  \n",
       "127          kemistvägen Täby Sweden  \n",
       "128  Norr norrtäljevägen Täby Sweden  \n",
       "129        ersmarksvägen Umeå Sweden  \n",
       "130          kronoparken Umeå Sweden  \n",
       "131         rådhustorget Umeå Sweden  \n",
       "132            kärnvägen Umeå Sweden  \n",
       "133              Centrum Umeå Sweden  \n",
       "134                vägen Umeå Sweden  \n",
       "135                 Norr Umeå Sweden  \n",
       "136                Söder Umeå Sweden  \n",
       "137        parkeringshus Umeå Sweden  \n",
       "138                 Norr Umeå Sweden  \n",
       "139              Centrum Umeå Sweden  \n",
       "140              Centrum Umeå Sweden  \n",
       "141                 Norr Umeå Sweden  \n",
       "142              Centrum Umeå Sweden  \n",
       "143     kyrkogatan vägen Umeå Sweden  \n",
       "144    Väster strömvägen Umeå Sweden  \n",
       "145     vägen/strombergs Umeå Sweden  \n",
       "146             vasaplan Umeå Sweden  "
      ]
     },
     "execution_count": 47,
     "metadata": {},
     "output_type": "execute_result"
    }
   ],
   "source": []
  },
  {
   "cell_type": "code",
   "execution_count": 44,
   "metadata": {},
   "outputs": [
    {
     "name": "stderr",
     "output_type": "stream",
     "text": [
      "Downloading: 100%|██████████| 1770/1770 [00:01<00:00, 981.33rows/s]\n"
     ]
    },
    {
     "name": "stdout",
     "output_type": "stream",
     "text": [
      "0\n",
      "interrupted, sleep 300 seconds\n",
      "1\n",
      "interrupted, sleep 300 seconds\n",
      "2\n",
      "3\n",
      "4\n",
      "5\n",
      "6\n",
      "7\n",
      "8\n",
      "9\n",
      "10\n",
      "11\n",
      "12\n",
      "13\n",
      "14\n",
      "15\n",
      "interrupted, sleep 300 seconds\n",
      "16\n",
      "17\n",
      "interrupted, sleep 300 seconds\n",
      "18\n",
      "19\n",
      "20\n",
      "interrupted, sleep 300 seconds\n",
      "21\n",
      "22\n",
      "23\n",
      "24\n",
      "25\n",
      "26\n",
      "27\n",
      "28\n",
      "29\n",
      "30\n",
      "31\n",
      "32\n",
      "33\n",
      "34\n",
      "35\n",
      "36\n",
      "37\n",
      "38\n",
      "39\n",
      "40\n",
      "41\n",
      "42\n",
      "43\n",
      "sleep 5 seconds\n",
      "44\n",
      "45\n",
      "46\n",
      "47\n",
      "48\n",
      "sleep 10 seconds\n",
      "49\n",
      "interrupted, sleep 300 seconds\n",
      "50\n",
      "51\n",
      "52\n",
      "interrupted, sleep 300 seconds\n",
      "53\n",
      "interrupted, sleep 300 seconds\n",
      "54\n",
      "55\n",
      "56\n",
      "interrupted, sleep 300 seconds\n",
      "57\n",
      "58\n",
      "interrupted, sleep 300 seconds\n",
      "59\n",
      "interrupted, sleep 300 seconds\n",
      "60\n",
      "61\n",
      "62\n",
      "63\n",
      "64\n",
      "65\n",
      "66\n",
      "67\n",
      "68\n",
      "69\n",
      "70\n",
      "71\n",
      "72\n",
      "73\n",
      "74\n",
      "75\n",
      "76\n",
      "77\n",
      "78\n",
      "79\n",
      "80\n",
      "81\n",
      "82\n",
      "83\n",
      "interrupted, sleep 300 seconds\n",
      "84\n",
      "85\n",
      "interrupted, sleep 300 seconds\n",
      "86\n",
      "87\n",
      "interrupted, sleep 300 seconds\n",
      "88\n",
      "89\n",
      "90\n",
      "91\n",
      "92\n",
      "93\n",
      "94\n",
      "95\n",
      "96\n",
      "97\n",
      "98\n",
      "interrupted, sleep 300 seconds\n",
      "99\n",
      "interrupted, sleep 300 seconds\n",
      "100\n",
      "interrupted, sleep 300 seconds\n",
      "101\n",
      "102\n",
      "103\n",
      "104\n",
      "105\n",
      "106\n",
      "107\n",
      "108\n",
      "109\n",
      "110\n",
      "111\n",
      "112\n",
      "interrupted, sleep 300 seconds\n",
      "113\n",
      "114\n",
      "115\n",
      "116\n",
      "117\n",
      "118\n",
      "119\n",
      "120\n",
      "121\n",
      "122\n",
      "interrupted, sleep 300 seconds\n",
      "123\n",
      "124\n",
      "125\n",
      "126\n",
      "127\n",
      "interrupted, sleep 300 seconds\n",
      "128\n",
      "129\n",
      "130\n",
      "131\n",
      "132\n",
      "133\n",
      "134\n",
      "135\n",
      "136\n",
      "137\n",
      "138\n",
      "139\n",
      "140\n",
      "141\n",
      "142\n",
      "interrupted, sleep 300 seconds\n",
      "143\n",
      "144\n",
      "145\n",
      "146\n",
      "interrupted, sleep 300 seconds\n",
      "147\n",
      "148\n",
      "149\n",
      "150\n",
      "151\n",
      "152\n",
      "153\n",
      "154\n",
      "155\n",
      "156\n",
      "157\n",
      "158\n",
      "interrupted, sleep 300 seconds\n",
      "159\n",
      "160\n",
      "161\n",
      "162\n",
      "163\n",
      "164\n",
      "165\n",
      "166\n",
      "167\n",
      "interrupted, sleep 300 seconds\n",
      "168\n",
      "interrupted, sleep 300 seconds\n",
      "169\n",
      "interrupted, sleep 300 seconds\n",
      "170\n",
      "171\n",
      "172\n",
      "173\n",
      "174\n",
      "175\n",
      "176\n",
      "177\n",
      "178\n",
      "179\n",
      "180\n",
      "181\n",
      "interrupted, sleep 300 seconds\n",
      "182\n",
      "183\n",
      "184\n",
      "185\n",
      "186\n",
      "187\n",
      "188\n",
      "189\n",
      "190\n",
      "191\n",
      "192\n",
      "193\n",
      "194\n",
      "195\n",
      "196\n",
      "197\n",
      "198\n",
      "199\n",
      "200\n",
      "201\n",
      "202\n",
      "203\n",
      "204\n",
      "205\n",
      "206\n",
      "207\n",
      "208\n",
      "209\n",
      "210\n",
      "211\n",
      "interrupted, sleep 300 seconds\n",
      "212\n",
      "213\n",
      "214\n",
      "215\n",
      "interrupted, sleep 300 seconds\n",
      "216\n",
      "interrupted, sleep 300 seconds\n",
      "217\n",
      "218\n",
      "219\n",
      "220\n",
      "221\n",
      "222\n",
      "223\n",
      "224\n",
      "225\n",
      "226\n",
      "227\n",
      "228\n",
      "229\n",
      "230\n",
      "231\n",
      "232\n",
      "233\n",
      "234\n",
      "235\n",
      "236\n",
      "237\n",
      "238\n",
      "interrupted, sleep 300 seconds\n",
      "239\n",
      "240\n",
      "241\n",
      "242\n",
      "243\n",
      "244\n",
      "245\n",
      "246\n",
      "247\n",
      "248\n",
      "249\n",
      "250\n",
      "251\n",
      "252\n",
      "253\n",
      "254\n",
      "255\n",
      "256\n",
      "257\n",
      "258\n",
      "259\n",
      "interrupted, sleep 300 seconds\n"
     ]
    },
    {
     "ename": "AttributeError",
     "evalue": "'NoneType' object has no attribute 'group'",
     "output_type": "error",
     "traceback": [
      "\u001b[0;31m---------------------------------------------------------------------------\u001b[0m",
      "\u001b[0;31mAttributeError\u001b[0m                            Traceback (most recent call last)",
      "\u001b[0;32m<ipython-input-44-1032e36baaf4>\u001b[0m in \u001b[0;36mmerciful_translate\u001b[0;34m(arr)\u001b[0m\n\u001b[1;32m     13\u001b[0m             \u001b[0mtranslator\u001b[0m \u001b[0;34m=\u001b[0m \u001b[0mTranslator\u001b[0m\u001b[0;34m(\u001b[0m\u001b[0;34m)\u001b[0m\u001b[0;34m\u001b[0m\u001b[0;34m\u001b[0m\u001b[0m\n\u001b[0;32m---> 14\u001b[0;31m             \u001b[0mtr\u001b[0m\u001b[0;34m=\u001b[0m\u001b[0mtranslator\u001b[0m\u001b[0;34m.\u001b[0m\u001b[0mtranslate\u001b[0m\u001b[0;34m(\u001b[0m\u001b[0mx\u001b[0m\u001b[0;34m,\u001b[0m \u001b[0msrc\u001b[0m\u001b[0;34m=\u001b[0m\u001b[0;34m'sv'\u001b[0m \u001b[0;34m,\u001b[0m \u001b[0mdest\u001b[0m\u001b[0;34m=\u001b[0m\u001b[0;34m'en'\u001b[0m\u001b[0;34m)\u001b[0m\u001b[0;34m.\u001b[0m\u001b[0mtext\u001b[0m\u001b[0;34m\u001b[0m\u001b[0;34m\u001b[0m\u001b[0m\n\u001b[0m\u001b[1;32m     15\u001b[0m             \u001b[0mprint\u001b[0m\u001b[0;34m(\u001b[0m\u001b[0mii\u001b[0m\u001b[0;34m)\u001b[0m\u001b[0;34m\u001b[0m\u001b[0;34m\u001b[0m\u001b[0m\n",
      "\u001b[0;32m/opt/anaconda3/envs/env-ml-opencv/lib/python3.7/site-packages/googletrans/client.py\u001b[0m in \u001b[0;36mtranslate\u001b[0;34m(self, text, dest, src, **kwargs)\u001b[0m\n\u001b[1;32m    181\u001b[0m         \u001b[0morigin\u001b[0m \u001b[0;34m=\u001b[0m \u001b[0mtext\u001b[0m\u001b[0;34m\u001b[0m\u001b[0;34m\u001b[0m\u001b[0m\n\u001b[0;32m--> 182\u001b[0;31m         \u001b[0mdata\u001b[0m \u001b[0;34m=\u001b[0m \u001b[0mself\u001b[0m\u001b[0;34m.\u001b[0m\u001b[0m_translate\u001b[0m\u001b[0;34m(\u001b[0m\u001b[0mtext\u001b[0m\u001b[0;34m,\u001b[0m \u001b[0mdest\u001b[0m\u001b[0;34m,\u001b[0m \u001b[0msrc\u001b[0m\u001b[0;34m,\u001b[0m \u001b[0mkwargs\u001b[0m\u001b[0;34m)\u001b[0m\u001b[0;34m\u001b[0m\u001b[0;34m\u001b[0m\u001b[0m\n\u001b[0m\u001b[1;32m    183\u001b[0m \u001b[0;34m\u001b[0m\u001b[0m\n",
      "\u001b[0;32m/opt/anaconda3/envs/env-ml-opencv/lib/python3.7/site-packages/googletrans/client.py\u001b[0m in \u001b[0;36m_translate\u001b[0;34m(self, text, dest, src, override)\u001b[0m\n\u001b[1;32m     77\u001b[0m     \u001b[0;32mdef\u001b[0m \u001b[0m_translate\u001b[0m\u001b[0;34m(\u001b[0m\u001b[0mself\u001b[0m\u001b[0;34m,\u001b[0m \u001b[0mtext\u001b[0m\u001b[0;34m,\u001b[0m \u001b[0mdest\u001b[0m\u001b[0;34m,\u001b[0m \u001b[0msrc\u001b[0m\u001b[0;34m,\u001b[0m \u001b[0moverride\u001b[0m\u001b[0;34m)\u001b[0m\u001b[0;34m:\u001b[0m\u001b[0;34m\u001b[0m\u001b[0;34m\u001b[0m\u001b[0m\n\u001b[0;32m---> 78\u001b[0;31m         \u001b[0mtoken\u001b[0m \u001b[0;34m=\u001b[0m \u001b[0mself\u001b[0m\u001b[0;34m.\u001b[0m\u001b[0mtoken_acquirer\u001b[0m\u001b[0;34m.\u001b[0m\u001b[0mdo\u001b[0m\u001b[0;34m(\u001b[0m\u001b[0mtext\u001b[0m\u001b[0;34m)\u001b[0m\u001b[0;34m\u001b[0m\u001b[0;34m\u001b[0m\u001b[0m\n\u001b[0m\u001b[1;32m     79\u001b[0m         params = utils.build_params(query=text, src=src, dest=dest,\n",
      "\u001b[0;32m/opt/anaconda3/envs/env-ml-opencv/lib/python3.7/site-packages/googletrans/gtoken.py\u001b[0m in \u001b[0;36mdo\u001b[0;34m(self, text)\u001b[0m\n\u001b[1;32m    193\u001b[0m     \u001b[0;32mdef\u001b[0m \u001b[0mdo\u001b[0m\u001b[0;34m(\u001b[0m\u001b[0mself\u001b[0m\u001b[0;34m,\u001b[0m \u001b[0mtext\u001b[0m\u001b[0;34m)\u001b[0m\u001b[0;34m:\u001b[0m\u001b[0;34m\u001b[0m\u001b[0;34m\u001b[0m\u001b[0m\n\u001b[0;32m--> 194\u001b[0;31m         \u001b[0mself\u001b[0m\u001b[0;34m.\u001b[0m\u001b[0m_update\u001b[0m\u001b[0;34m(\u001b[0m\u001b[0;34m)\u001b[0m\u001b[0;34m\u001b[0m\u001b[0;34m\u001b[0m\u001b[0m\n\u001b[0m\u001b[1;32m    195\u001b[0m         \u001b[0mtk\u001b[0m \u001b[0;34m=\u001b[0m \u001b[0mself\u001b[0m\u001b[0;34m.\u001b[0m\u001b[0macquire\u001b[0m\u001b[0;34m(\u001b[0m\u001b[0mtext\u001b[0m\u001b[0;34m)\u001b[0m\u001b[0;34m\u001b[0m\u001b[0;34m\u001b[0m\u001b[0m\n",
      "\u001b[0;32m/opt/anaconda3/envs/env-ml-opencv/lib/python3.7/site-packages/googletrans/gtoken.py\u001b[0m in \u001b[0;36m_update\u001b[0;34m(self)\u001b[0m\n\u001b[1;32m     61\u001b[0m         \u001b[0;31m# this will be the same as python code after stripping out a reserved word 'var'\u001b[0m\u001b[0;34m\u001b[0m\u001b[0;34m\u001b[0m\u001b[0;34m\u001b[0m\u001b[0m\n\u001b[0;32m---> 62\u001b[0;31m         \u001b[0mcode\u001b[0m \u001b[0;34m=\u001b[0m \u001b[0mself\u001b[0m\u001b[0;34m.\u001b[0m\u001b[0mRE_TKK\u001b[0m\u001b[0;34m.\u001b[0m\u001b[0msearch\u001b[0m\u001b[0;34m(\u001b[0m\u001b[0mr\u001b[0m\u001b[0;34m.\u001b[0m\u001b[0mtext\u001b[0m\u001b[0;34m)\u001b[0m\u001b[0;34m.\u001b[0m\u001b[0mgroup\u001b[0m\u001b[0;34m(\u001b[0m\u001b[0;36m1\u001b[0m\u001b[0;34m)\u001b[0m\u001b[0;34m.\u001b[0m\u001b[0mreplace\u001b[0m\u001b[0;34m(\u001b[0m\u001b[0;34m'var '\u001b[0m\u001b[0;34m,\u001b[0m \u001b[0;34m''\u001b[0m\u001b[0;34m)\u001b[0m\u001b[0;34m\u001b[0m\u001b[0;34m\u001b[0m\u001b[0m\n\u001b[0m\u001b[1;32m     63\u001b[0m         \u001b[0;31m# unescape special ascii characters such like a \\x3d(=)\u001b[0m\u001b[0;34m\u001b[0m\u001b[0;34m\u001b[0m\u001b[0;34m\u001b[0m\u001b[0m\n",
      "\u001b[0;31mAttributeError\u001b[0m: 'NoneType' object has no attribute 'group'",
      "\nDuring handling of the above exception, another exception occurred:\n",
      "\u001b[0;31mAttributeError\u001b[0m                            Traceback (most recent call last)",
      "\u001b[0;32m<ipython-input-44-1032e36baaf4>\u001b[0m in \u001b[0;36m<module>\u001b[0;34m\u001b[0m\n\u001b[1;32m     37\u001b[0m                    table_id='cities_refined_en')\n\u001b[1;32m     38\u001b[0m \u001b[0;32mfrom\u001b[0m \u001b[0mIPython\u001b[0m \u001b[0;32mimport\u001b[0m \u001b[0membed\u001b[0m\u001b[0;34m\u001b[0m\u001b[0;34m\u001b[0m\u001b[0m\n\u001b[0;32m---> 39\u001b[0;31m \u001b[0mseed_table_cities_en\u001b[0m\u001b[0;34m(\u001b[0m\u001b[0;34m)\u001b[0m\u001b[0;34m\u001b[0m\u001b[0;34m\u001b[0m\u001b[0m\n\u001b[0m",
      "\u001b[0;32m<ipython-input-44-1032e36baaf4>\u001b[0m in \u001b[0;36mseed_table_cities_en\u001b[0;34m()\u001b[0m\n\u001b[1;32m     32\u001b[0m             \"\"\"\n\u001b[1;32m     33\u001b[0m     )\n\u001b[0;32m---> 34\u001b[0;31m     \u001b[0mnewly_arrived\u001b[0m\u001b[0;34m[\u001b[0m\u001b[0;34m'details'\u001b[0m\u001b[0;34m]\u001b[0m \u001b[0;34m=\u001b[0m \u001b[0mmerciful_translate\u001b[0m\u001b[0;34m(\u001b[0m\u001b[0mnewly_arrived\u001b[0m\u001b[0;34m[\u001b[0m\u001b[0;34m'details'\u001b[0m\u001b[0;34m]\u001b[0m\u001b[0;34m)\u001b[0m\u001b[0;34m\u001b[0m\u001b[0;34m\u001b[0m\u001b[0m\n\u001b[0m\u001b[1;32m     35\u001b[0m     upload_initial(newly_arrived, project_id='my-user-project-287504', \n\u001b[1;32m     36\u001b[0m                    \u001b[0mdataset_id\u001b[0m\u001b[0;34m=\u001b[0m\u001b[0;34m'crime_statistics_polisenapi'\u001b[0m\u001b[0;34m,\u001b[0m\u001b[0;34m\u001b[0m\u001b[0;34m\u001b[0m\u001b[0m\n",
      "\u001b[0;32m<ipython-input-44-1032e36baaf4>\u001b[0m in \u001b[0;36mmerciful_translate\u001b[0;34m(arr)\u001b[0m\n\u001b[1;32m     20\u001b[0m             \u001b[0msleep\u001b[0m\u001b[0;34m(\u001b[0m\u001b[0mt_sleep\u001b[0m\u001b[0;34m)\u001b[0m\u001b[0;34m\u001b[0m\u001b[0;34m\u001b[0m\u001b[0m\n\u001b[1;32m     21\u001b[0m             \u001b[0mtranslator\u001b[0m \u001b[0;34m=\u001b[0m \u001b[0mTranslator\u001b[0m\u001b[0;34m(\u001b[0m\u001b[0;34m)\u001b[0m\u001b[0;34m\u001b[0m\u001b[0;34m\u001b[0m\u001b[0m\n\u001b[0;32m---> 22\u001b[0;31m             \u001b[0mtr\u001b[0m\u001b[0;34m=\u001b[0m\u001b[0mtranslator\u001b[0m\u001b[0;34m.\u001b[0m\u001b[0mtranslate\u001b[0m\u001b[0;34m(\u001b[0m\u001b[0mx\u001b[0m\u001b[0;34m,\u001b[0m \u001b[0msrc\u001b[0m\u001b[0;34m=\u001b[0m\u001b[0;34m'sv'\u001b[0m \u001b[0;34m,\u001b[0m \u001b[0mdest\u001b[0m\u001b[0;34m=\u001b[0m\u001b[0;34m'en'\u001b[0m\u001b[0;34m)\u001b[0m\u001b[0;34m.\u001b[0m\u001b[0mtext\u001b[0m\u001b[0;34m\u001b[0m\u001b[0;34m\u001b[0m\u001b[0m\n\u001b[0m\u001b[1;32m     23\u001b[0m             \u001b[0mprint\u001b[0m\u001b[0;34m(\u001b[0m\u001b[0mii\u001b[0m\u001b[0;34m)\u001b[0m\u001b[0;34m\u001b[0m\u001b[0;34m\u001b[0m\u001b[0m\n\u001b[1;32m     24\u001b[0m             \u001b[0mtranslated\u001b[0m\u001b[0;34m.\u001b[0m\u001b[0mappend\u001b[0m\u001b[0;34m(\u001b[0m\u001b[0mtr\u001b[0m\u001b[0;34m)\u001b[0m\u001b[0;34m\u001b[0m\u001b[0;34m\u001b[0m\u001b[0m\n",
      "\u001b[0;32m/opt/anaconda3/envs/env-ml-opencv/lib/python3.7/site-packages/googletrans/client.py\u001b[0m in \u001b[0;36mtranslate\u001b[0;34m(self, text, dest, src, **kwargs)\u001b[0m\n\u001b[1;32m    180\u001b[0m \u001b[0;34m\u001b[0m\u001b[0m\n\u001b[1;32m    181\u001b[0m         \u001b[0morigin\u001b[0m \u001b[0;34m=\u001b[0m \u001b[0mtext\u001b[0m\u001b[0;34m\u001b[0m\u001b[0;34m\u001b[0m\u001b[0m\n\u001b[0;32m--> 182\u001b[0;31m         \u001b[0mdata\u001b[0m \u001b[0;34m=\u001b[0m \u001b[0mself\u001b[0m\u001b[0;34m.\u001b[0m\u001b[0m_translate\u001b[0m\u001b[0;34m(\u001b[0m\u001b[0mtext\u001b[0m\u001b[0;34m,\u001b[0m \u001b[0mdest\u001b[0m\u001b[0;34m,\u001b[0m \u001b[0msrc\u001b[0m\u001b[0;34m,\u001b[0m \u001b[0mkwargs\u001b[0m\u001b[0;34m)\u001b[0m\u001b[0;34m\u001b[0m\u001b[0;34m\u001b[0m\u001b[0m\n\u001b[0m\u001b[1;32m    183\u001b[0m \u001b[0;34m\u001b[0m\u001b[0m\n\u001b[1;32m    184\u001b[0m         \u001b[0;31m# this code will be updated when the format is changed.\u001b[0m\u001b[0;34m\u001b[0m\u001b[0;34m\u001b[0m\u001b[0;34m\u001b[0m\u001b[0m\n",
      "\u001b[0;32m/opt/anaconda3/envs/env-ml-opencv/lib/python3.7/site-packages/googletrans/client.py\u001b[0m in \u001b[0;36m_translate\u001b[0;34m(self, text, dest, src, override)\u001b[0m\n\u001b[1;32m     76\u001b[0m \u001b[0;34m\u001b[0m\u001b[0m\n\u001b[1;32m     77\u001b[0m     \u001b[0;32mdef\u001b[0m \u001b[0m_translate\u001b[0m\u001b[0;34m(\u001b[0m\u001b[0mself\u001b[0m\u001b[0;34m,\u001b[0m \u001b[0mtext\u001b[0m\u001b[0;34m,\u001b[0m \u001b[0mdest\u001b[0m\u001b[0;34m,\u001b[0m \u001b[0msrc\u001b[0m\u001b[0;34m,\u001b[0m \u001b[0moverride\u001b[0m\u001b[0;34m)\u001b[0m\u001b[0;34m:\u001b[0m\u001b[0;34m\u001b[0m\u001b[0;34m\u001b[0m\u001b[0m\n\u001b[0;32m---> 78\u001b[0;31m         \u001b[0mtoken\u001b[0m \u001b[0;34m=\u001b[0m \u001b[0mself\u001b[0m\u001b[0;34m.\u001b[0m\u001b[0mtoken_acquirer\u001b[0m\u001b[0;34m.\u001b[0m\u001b[0mdo\u001b[0m\u001b[0;34m(\u001b[0m\u001b[0mtext\u001b[0m\u001b[0;34m)\u001b[0m\u001b[0;34m\u001b[0m\u001b[0;34m\u001b[0m\u001b[0m\n\u001b[0m\u001b[1;32m     79\u001b[0m         params = utils.build_params(query=text, src=src, dest=dest,\n\u001b[1;32m     80\u001b[0m                                     token=token, override=override)\n",
      "\u001b[0;32m/opt/anaconda3/envs/env-ml-opencv/lib/python3.7/site-packages/googletrans/gtoken.py\u001b[0m in \u001b[0;36mdo\u001b[0;34m(self, text)\u001b[0m\n\u001b[1;32m    192\u001b[0m \u001b[0;34m\u001b[0m\u001b[0m\n\u001b[1;32m    193\u001b[0m     \u001b[0;32mdef\u001b[0m \u001b[0mdo\u001b[0m\u001b[0;34m(\u001b[0m\u001b[0mself\u001b[0m\u001b[0;34m,\u001b[0m \u001b[0mtext\u001b[0m\u001b[0;34m)\u001b[0m\u001b[0;34m:\u001b[0m\u001b[0;34m\u001b[0m\u001b[0;34m\u001b[0m\u001b[0m\n\u001b[0;32m--> 194\u001b[0;31m         \u001b[0mself\u001b[0m\u001b[0;34m.\u001b[0m\u001b[0m_update\u001b[0m\u001b[0;34m(\u001b[0m\u001b[0;34m)\u001b[0m\u001b[0;34m\u001b[0m\u001b[0;34m\u001b[0m\u001b[0m\n\u001b[0m\u001b[1;32m    195\u001b[0m         \u001b[0mtk\u001b[0m \u001b[0;34m=\u001b[0m \u001b[0mself\u001b[0m\u001b[0;34m.\u001b[0m\u001b[0macquire\u001b[0m\u001b[0;34m(\u001b[0m\u001b[0mtext\u001b[0m\u001b[0;34m)\u001b[0m\u001b[0;34m\u001b[0m\u001b[0;34m\u001b[0m\u001b[0m\n\u001b[1;32m    196\u001b[0m         \u001b[0;32mreturn\u001b[0m \u001b[0mtk\u001b[0m\u001b[0;34m\u001b[0m\u001b[0;34m\u001b[0m\u001b[0m\n",
      "\u001b[0;32m/opt/anaconda3/envs/env-ml-opencv/lib/python3.7/site-packages/googletrans/gtoken.py\u001b[0m in \u001b[0;36m_update\u001b[0;34m(self)\u001b[0m\n\u001b[1;32m     60\u001b[0m \u001b[0;34m\u001b[0m\u001b[0m\n\u001b[1;32m     61\u001b[0m         \u001b[0;31m# this will be the same as python code after stripping out a reserved word 'var'\u001b[0m\u001b[0;34m\u001b[0m\u001b[0;34m\u001b[0m\u001b[0;34m\u001b[0m\u001b[0m\n\u001b[0;32m---> 62\u001b[0;31m         \u001b[0mcode\u001b[0m \u001b[0;34m=\u001b[0m \u001b[0mself\u001b[0m\u001b[0;34m.\u001b[0m\u001b[0mRE_TKK\u001b[0m\u001b[0;34m.\u001b[0m\u001b[0msearch\u001b[0m\u001b[0;34m(\u001b[0m\u001b[0mr\u001b[0m\u001b[0;34m.\u001b[0m\u001b[0mtext\u001b[0m\u001b[0;34m)\u001b[0m\u001b[0;34m.\u001b[0m\u001b[0mgroup\u001b[0m\u001b[0;34m(\u001b[0m\u001b[0;36m1\u001b[0m\u001b[0;34m)\u001b[0m\u001b[0;34m.\u001b[0m\u001b[0mreplace\u001b[0m\u001b[0;34m(\u001b[0m\u001b[0;34m'var '\u001b[0m\u001b[0;34m,\u001b[0m \u001b[0;34m''\u001b[0m\u001b[0;34m)\u001b[0m\u001b[0;34m\u001b[0m\u001b[0;34m\u001b[0m\u001b[0m\n\u001b[0m\u001b[1;32m     63\u001b[0m         \u001b[0;31m# unescape special ascii characters such like a \\x3d(=)\u001b[0m\u001b[0;34m\u001b[0m\u001b[0;34m\u001b[0m\u001b[0;34m\u001b[0m\u001b[0m\n\u001b[1;32m     64\u001b[0m         \u001b[0mcode\u001b[0m \u001b[0;34m=\u001b[0m \u001b[0mcode\u001b[0m\u001b[0;34m.\u001b[0m\u001b[0mencode\u001b[0m\u001b[0;34m(\u001b[0m\u001b[0;34m)\u001b[0m\u001b[0;34m.\u001b[0m\u001b[0mdecode\u001b[0m\u001b[0;34m(\u001b[0m\u001b[0;34m'unicode-escape'\u001b[0m\u001b[0;34m)\u001b[0m\u001b[0;34m\u001b[0m\u001b[0;34m\u001b[0m\u001b[0m\n",
      "\u001b[0;31mAttributeError\u001b[0m: 'NoneType' object has no attribute 'group'"
     ]
    }
   ],
   "source": [
    "\n",
    "def seed_table_cities_en():\n",
    "    newly_arrived = pandas_gbq.read_gbq(\"\"\"\n",
    "            SELECT *\n",
    "            FROM `my-user-project-287504.crime_statistics_polisenapi.cities_refined`\n",
    "            \"\"\"\n",
    "    )\n",
    "    \n",
    "    newly_arrived['details'] = merciful_translate(newly_arrived['details'])\n",
    "    upload_initial(newly_arrived, project_id='my-user-project-287504', \n",
    "                   dataset_id='crime_statistics_polisenapi',  \n",
    "                   table_id='cities_refined_en')\n",
    "from IPython import embed\n",
    "seed_table_cities_en()"
   ]
  },
  {
   "cell_type": "code",
   "execution_count": 22,
   "metadata": {},
   "outputs": [
    {
     "data": {
      "text/plain": [
       "'my name is uwe'"
      ]
     },
     "execution_count": 22,
     "metadata": {},
     "output_type": "execute_result"
    }
   ],
   "source": [
    "translator = Translator()\n",
    "translator.translate('jag heter uwe', src='sv' , dest='en').text"
   ]
  },
  {
   "cell_type": "code",
   "execution_count": 9,
   "metadata": {},
   "outputs": [],
   "source": [
    "data_source_query = \"\"\"\n",
    "(SELECT id, Datetime(datetime, 'Europe/Stockholm') datetime, location_name city, \n",
    "type, summary, details, concat(name,' ',summary, ' ',details  ) location_details, \n",
    "case when details like '%skottloss%' or details like '%pistol%' then 'gun-related' else 'other' end as gun_filter\n",
    "FROM `my-user-project-287504.crime_statistics_polisenapi.raw`\n",
    "WHERE location_name not in (\n",
    "  SELECT DISTINCT city FROM `my-user-project-287504.crime_statistics_polisenapi.dim_district`)\n",
    "order by datetime desc)\n",
    "UNION ALL\n",
    "(SELECT id, Datetime(datetime, 'Europe/Stockholm') datetime, location_name city, \n",
    "type, summary, details, location_details,\n",
    "case when details like '%skottloss%' or details like '%pistol%' then 'gun-related' else 'other' end as gun_filter\n",
    "FROM `my-user-project-287504.crime_statistics_polisenapi.cities_refined`\n",
    "order by datetime desc)\n",
    "\"\"\""
   ]
  },
  {
   "cell_type": "code",
   "execution_count": 115,
   "metadata": {},
   "outputs": [
    {
     "name": "stderr",
     "output_type": "stream",
     "text": [
      "1it [00:06,  6.77s/it]\n"
     ]
    }
   ],
   "source": [
    "\n",
    "\n",
    "raw = raw[raw['location_name'].str.lower()=='uppsala']\n",
    "details_list = raw['details']+' '+raw['summary']+' '+ raw['name']\n",
    "raw['location_details'] = [extract_location_details(detail) for detail in details_list]\n",
    "\n",
    "        \n",
    "upload_initial(raw, project_id='my-user-project-287504', \n",
    "               dataset_id='crime_statistics_polisenapi',  \n",
    "               table_id='uppsala')"
   ]
  },
  {
   "cell_type": "code",
   "execution_count": 119,
   "metadata": {},
   "outputs": [
    {
     "data": {
      "text/plain": [
       "20"
      ]
     },
     "execution_count": 119,
     "metadata": {},
     "output_type": "execute_result"
    }
   ],
   "source": [
    "np.sum(raw['location_name'].str.lower()=='uppsala')"
   ]
  },
  {
   "cell_type": "code",
   "execution_count": 39,
   "metadata": {},
   "outputs": [
    {
     "name": "stderr",
     "output_type": "stream",
     "text": [
      "1it [00:03,  3.42s/it]\n"
     ]
    }
   ],
   "source": [
    "district['city']='Uppsala'\n",
    "upload_initial(district, project_id='my-user-project-287504', \n",
    "               dataset_id='crime_statistics_polisenapi',  \n",
    "               table_id='dim_district')"
   ]
  },
  {
   "cell_type": "code",
   "execution_count": 88,
   "metadata": {},
   "outputs": [
    {
     "data": {
      "text/plain": [
       "'Två personer som har relation har ett ljudligt gräl med varandra på en adress i Sala backe och flera personer ringer 112 När polisen kommer till platsen är ingen skadad  men det har brunnit i en säng och polisen kommer att skriva en anmälan om mordbrand alternativt försök till mordbrand  En av personerna omhändertas med stöd i lagen om psykiatrisk tvångsvård '"
      ]
     },
     "execution_count": 88,
     "metadata": {},
     "output_type": "execute_result"
    }
   ],
   "source": [
    "import re\n",
    "re.sub('[.,;!:]', ' ', detail)"
   ]
  },
  {
   "cell_type": "code",
   "execution_count": 8,
   "metadata": {},
   "outputs": [
    {
     "name": "stderr",
     "output_type": "stream",
     "text": [
      "1it [00:04,  4.27s/it]\n"
     ]
    }
   ],
   "source": [
    "def city_district(cityname, district_list):\n",
    "    df_district = pd.DataFrame({'district': district_list})\n",
    "    df_district['city'] = cityname\n",
    "    return df_district\n",
    "\n",
    "def get_dim_district():\n",
    "    uppsala_list = ['Fjärdingen', 'Berthåga', 'Husbyborg', 'Hällby', 'Librobäck',\n",
    "       'Luthagen', 'Rickomberga', 'Stenhagen', 'Eriksberg', 'Flogsta',\n",
    "       'Ekeby', 'Håga', 'Kvarnbo', 'Kåbo', 'Norby', 'Polacksbacken',\n",
    "       'Starbo', 'Gottsunda', 'Sunnersta', 'Ulleråker', 'Ultuna',\n",
    "       'Valsätra', 'Vårdsätra', 'Bergsbrunna', 'Danmark-Säby', 'Nåntuna',\n",
    "       'Sävja', 'Vilan', 'Boländerna', 'Fyrislund', 'Fålhagen',\n",
    "       'Kungsängen', 'Kuggebro', 'Sala backe', 'Slavsta', 'Vaksala',\n",
    "       'Årsta', 'Brillinge', 'Gamla Uppsala', 'Gränby', 'Kvarngärdet',\n",
    "       'Löten', 'Nyby', 'Svartbäcken', 'Tunabackar', 'Ärna', 'Storvreta',\n",
    "        'Rasbo','Centrum', 'Skuttunge', 'Skyttorp','Tycho Hedéns väg']\n",
    "\n",
    "    stockholm_list = ['Bromma','Enskede','Årsta','Vantörs','Farsta','Hägersten','Älvsjö','Hässelby','Vällingby','Kungsholmens',\n",
    "    'Norrmalms','Rinkeby','Kista','Skarpnäcks','Skärholmens','Spånga','Tensta','Södermalms','Östermalms', 'Täby', 'Solna', 'Sundbyberg']\n",
    "\n",
    "    gavle_list = ['Alderholmen','Andersberg','Bomhus','Brynäs','Fredriksskans','Fridhem','Järvsta','Gamla Gävle',\n",
    "             'Hagaström','Hemlingby','Hemsta','Hille','Varva','Höjersdal','Lexe','Nordost','Norr','Norrtull',\n",
    "             'Nynäs','Näringen','Olsbacka','Stigslund','Strömsbro','Sätra','Söder',\n",
    "             'Södertull','Sörby','Sörby urfjäll','Vall','Vallbacken','Villastaden','Väster','Tolvfors','Åbyggeby','Öster']\n",
    "    karlskrona_list = ['Aspö','Augerum','Flymen','Fridlevstad','Hasslö','Jämjö','Karlskrona','Kristianopel','Lösen',\n",
    "                       'Nättraby','Ramdala','Rödeby','Sillhövda','Sturkö','Torhamn','Tving']\n",
    "    \n",
    "    dfs = [city_district('Uppsala', uppsala_list),\n",
    "           city_district('Stockholm', stockholm_list),\n",
    "           city_district('Gävle', gavle_list),\n",
    "           city_district('Karlskrona', karlskrona_list)\n",
    "          ]\n",
    "    return pd.concat(dfs)\n",
    "dim_district = get_dim_district()\n",
    "upload_initial(dim_district, project_id='my-user-project-287504', \n",
    "               dataset_id='crime_statistics_polisenapi',  \n",
    "               table_id='dim_district')"
   ]
  },
  {
   "cell_type": "code",
   "execution_count": null,
   "metadata": {},
   "outputs": [],
   "source": []
  }
 ],
 "metadata": {
  "kernelspec": {
   "display_name": "dsdc-monitoring",
   "language": "python",
   "name": "dsdc-monitoring"
  },
  "language_info": {
   "codemirror_mode": {
    "name": "ipython",
    "version": 3
   },
   "file_extension": ".py",
   "mimetype": "text/x-python",
   "name": "python",
   "nbconvert_exporter": "python",
   "pygments_lexer": "ipython3",
   "version": "3.7.6"
  },
  "latex_envs": {
   "LaTeX_envs_menu_present": true,
   "autoclose": false,
   "autocomplete": true,
   "bibliofile": "biblio.bib",
   "cite_by": "apalike",
   "current_citInitial": 1,
   "eqLabelWithNumbers": true,
   "eqNumInitial": 1,
   "hotkeys": {
    "equation": "Ctrl-E",
    "itemize": "Ctrl-I"
   },
   "labels_anchors": false,
   "latex_user_defs": false,
   "report_style_numbering": false,
   "user_envs_cfg": false
  },
  "toc": {
   "base_numbering": 1,
   "nav_menu": {},
   "number_sections": true,
   "sideBar": true,
   "skip_h1_title": false,
   "title_cell": "Table of Contents",
   "title_sidebar": "Contents",
   "toc_cell": true,
   "toc_position": {},
   "toc_section_display": true,
   "toc_window_display": false
  }
 },
 "nbformat": 4,
 "nbformat_minor": 2
}
